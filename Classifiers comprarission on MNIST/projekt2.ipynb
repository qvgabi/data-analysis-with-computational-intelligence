{
 "cells": [
  {
   "cell_type": "markdown",
   "metadata": {},
   "source": [
    "# **Projekt 2 - Gabriela Matuszewska, Mateusz Wojtulewicz**\n",
    "gabimatuszewska3@gmail.com <br>\n",
    "mateusz.wojtulewicz@gmail.com"
   ]
  },
  {
   "cell_type": "markdown",
   "metadata": {},
   "source": [
    "# Zadanie 1 - przygotowanie potrzebnych funkcji oraz importy"
   ]
  },
  {
   "cell_type": "code",
   "execution_count": 1,
   "metadata": {},
   "outputs": [],
   "source": [
    "import cv2\n",
    "import numpy as np\n",
    "import seaborn as sns\n",
    "import matplotlib.pyplot as plt\n",
    "\n",
    "from sklearn.model_selection import GridSearchCV\n",
    "from sklearn.metrics import classification_report, confusion_matrix"
   ]
  },
  {
   "cell_type": "code",
   "execution_count": 2,
   "metadata": {},
   "outputs": [],
   "source": [
    "def showOpencvImage(image, isGray=False):\n",
    "    fig = plt.figure(figsize=(6, 6))\n",
    "    plt.imshow(image, cmap = 'gray')\n",
    "    plt.show()\n",
    "\n",
    "def openCVHOG(im):\n",
    "    winSize = (20,20)\n",
    "    blockSize = (10,10)\n",
    "    blockStride = (5,5)\n",
    "    cellSize = (10,10)\n",
    "    nbins = 9\n",
    "    derivAperture = 1\n",
    "    winSigma = -1.\n",
    "    histogramNormType = 0\n",
    "    L2HysThreshold = 0.2\n",
    "    gammaCorrection = 1\n",
    "    nlevels = 64\n",
    "    signedGradients = True\n",
    "    \n",
    "    # histogram of oriented gradiens\n",
    "    hog = cv2.HOGDescriptor(winSize,blockSize,blockStride,cellSize,nbins,derivAperture,winSigma,\n",
    "                            histogramNormType,L2HysThreshold,gammaCorrection,nlevels, signedGradients)\n",
    "    descriptor = np.ravel(hog.compute(im))\n",
    "    \n",
    "    return descriptor"
   ]
  },
  {
   "cell_type": "code",
   "execution_count": 3,
   "metadata": {},
   "outputs": [],
   "source": [
    "## [deskew] -> roating a scanned image to compensate for skewing\n",
    "SZ=28\n",
    "affine_flags = cv2.WARP_INVERSE_MAP|cv2.INTER_LINEAR\n",
    "\n",
    "def deskew(img):\n",
    "    m = cv2.moments(img)\n",
    "    if abs(m['mu02']) < 1e-2:\n",
    "        return img.copy()\n",
    "    skew = m['mu11']/m['mu02']\n",
    "    M = np.float32([[1, skew, -0.5*SZ*skew], [0, 1, 0]])\n",
    "    img = cv2.warpAffine(img,M,(SZ, SZ),flags=affine_flags)\n",
    "    return img\n",
    "## [deskew]"
   ]
  },
  {
   "cell_type": "markdown",
   "metadata": {},
   "source": [
    "## Załadowanie danych"
   ]
  },
  {
   "cell_type": "code",
   "execution_count": 4,
   "metadata": {},
   "outputs": [],
   "source": [
    "from keras.datasets import mnist\n",
    "\n",
    "(train_images, train_labels), (test_images, test_labels) = mnist.load_data()"
   ]
  },
  {
   "cell_type": "code",
   "execution_count": 5,
   "metadata": {},
   "outputs": [
    {
     "data": {
      "text/plain": [
       "((60000, 28, 28), (60000,))"
      ]
     },
     "execution_count": 5,
     "metadata": {},
     "output_type": "execute_result"
    }
   ],
   "source": [
    "train_images.shape, train_labels.shape"
   ]
  },
  {
   "cell_type": "markdown",
   "metadata": {},
   "source": [
    "# Zadanie 2"
   ]
  },
  {
   "cell_type": "markdown",
   "metadata": {},
   "source": [
    "## Trening klasyfikatorów dla danych z funkcją Deskew oraz HOG\n",
    "Wraz z wyborem parametrów modelu przy użyciu gridSearchCV."
   ]
  },
  {
   "cell_type": "code",
   "execution_count": 6,
   "metadata": {},
   "outputs": [],
   "source": [
    "# uzycie funkcji deskew\n",
    "\n",
    "train_deskewed = [deskew(im) for im in train_images]\n",
    "train_deskewed = np.asarray(train_deskewed)"
   ]
  },
  {
   "cell_type": "code",
   "execution_count": 7,
   "metadata": {},
   "outputs": [
    {
     "name": "stdout",
     "output_type": "stream",
     "text": [
      "(60000, 81)\n"
     ]
    }
   ],
   "source": [
    "# hog\n",
    "\n",
    "hogdata = [openCVHOG(im) for im in train_deskewed]\n",
    "imData = np.float32(hogdata).reshape(-1,81)\n",
    "print(imData.shape)"
   ]
  },
  {
   "cell_type": "markdown",
   "metadata": {},
   "source": [
    "## SVM"
   ]
  },
  {
   "cell_type": "code",
   "execution_count": 8,
   "metadata": {},
   "outputs": [
    {
     "name": "stdout",
     "output_type": "stream",
     "text": [
      "Fitting 5 folds for each of 8 candidates, totalling 40 fits\n",
      "[CV 1/5] END ................C=1, gamma=scale, kernel=linear; total time=   0.2s\n",
      "[CV 2/5] END ................C=1, gamma=scale, kernel=linear; total time=   0.2s\n",
      "[CV 3/5] END ................C=1, gamma=scale, kernel=linear; total time=   0.2s\n",
      "[CV 4/5] END ................C=1, gamma=scale, kernel=linear; total time=   0.2s\n",
      "[CV 5/5] END ................C=1, gamma=scale, kernel=linear; total time=   0.2s\n",
      "[CV 1/5] END ...................C=1, gamma=scale, kernel=rbf; total time=   0.3s\n",
      "[CV 2/5] END ...................C=1, gamma=scale, kernel=rbf; total time=   0.4s\n",
      "[CV 3/5] END ...................C=1, gamma=scale, kernel=rbf; total time=   0.3s\n",
      "[CV 4/5] END ...................C=1, gamma=scale, kernel=rbf; total time=   0.3s\n",
      "[CV 5/5] END ...................C=1, gamma=scale, kernel=rbf; total time=   0.3s\n",
      "[CV 1/5] END .................C=1, gamma=auto, kernel=linear; total time=   0.2s\n",
      "[CV 2/5] END .................C=1, gamma=auto, kernel=linear; total time=   0.2s\n",
      "[CV 3/5] END .................C=1, gamma=auto, kernel=linear; total time=   0.2s\n",
      "[CV 4/5] END .................C=1, gamma=auto, kernel=linear; total time=   0.2s\n",
      "[CV 5/5] END .................C=1, gamma=auto, kernel=linear; total time=   0.2s\n",
      "[CV 1/5] END ....................C=1, gamma=auto, kernel=rbf; total time=   0.8s\n",
      "[CV 2/5] END ....................C=1, gamma=auto, kernel=rbf; total time=   0.7s\n",
      "[CV 3/5] END ....................C=1, gamma=auto, kernel=rbf; total time=   0.8s\n",
      "[CV 4/5] END ....................C=1, gamma=auto, kernel=rbf; total time=   0.7s\n",
      "[CV 5/5] END ....................C=1, gamma=auto, kernel=rbf; total time=   0.7s\n",
      "[CV 1/5] END ...............C=10, gamma=scale, kernel=linear; total time=   0.2s\n",
      "[CV 2/5] END ...............C=10, gamma=scale, kernel=linear; total time=   0.2s\n",
      "[CV 3/5] END ...............C=10, gamma=scale, kernel=linear; total time=   0.2s\n",
      "[CV 4/5] END ...............C=10, gamma=scale, kernel=linear; total time=   0.2s\n",
      "[CV 5/5] END ...............C=10, gamma=scale, kernel=linear; total time=   0.2s\n",
      "[CV 1/5] END ..................C=10, gamma=scale, kernel=rbf; total time=   0.3s\n",
      "[CV 2/5] END ..................C=10, gamma=scale, kernel=rbf; total time=   0.3s\n",
      "[CV 3/5] END ..................C=10, gamma=scale, kernel=rbf; total time=   0.3s\n",
      "[CV 4/5] END ..................C=10, gamma=scale, kernel=rbf; total time=   0.3s\n",
      "[CV 5/5] END ..................C=10, gamma=scale, kernel=rbf; total time=   0.3s\n",
      "[CV 1/5] END ................C=10, gamma=auto, kernel=linear; total time=   0.2s\n",
      "[CV 2/5] END ................C=10, gamma=auto, kernel=linear; total time=   0.2s\n",
      "[CV 3/5] END ................C=10, gamma=auto, kernel=linear; total time=   0.2s\n",
      "[CV 4/5] END ................C=10, gamma=auto, kernel=linear; total time=   0.2s\n",
      "[CV 5/5] END ................C=10, gamma=auto, kernel=linear; total time=   0.2s\n",
      "[CV 1/5] END ...................C=10, gamma=auto, kernel=rbf; total time=   0.3s\n",
      "[CV 2/5] END ...................C=10, gamma=auto, kernel=rbf; total time=   0.3s\n",
      "[CV 3/5] END ...................C=10, gamma=auto, kernel=rbf; total time=   0.3s\n",
      "[CV 4/5] END ...................C=10, gamma=auto, kernel=rbf; total time=   0.3s\n",
      "[CV 5/5] END ...................C=10, gamma=auto, kernel=rbf; total time=   0.3s\n"
     ]
    },
    {
     "data": {
      "text/plain": [
       "GridSearchCV(cv=5, estimator=SVC(),\n",
       "             param_grid={'C': [1, 10], 'gamma': ('scale', 'auto'),\n",
       "                         'kernel': ('linear', 'rbf')},\n",
       "             verbose=3)"
      ]
     },
     "execution_count": 8,
     "metadata": {},
     "output_type": "execute_result"
    }
   ],
   "source": [
    "from sklearn import svm\n",
    "\n",
    "parameters = {'kernel':('linear','rbf'), 'C':[1,10], 'gamma':('scale', 'auto')}\n",
    "\n",
    "svc = svm.SVC()\n",
    "clf = GridSearchCV(svc, parameters, cv=5, verbose=3)\n",
    "clf.fit(imData[:6000], train_labels[:6000])"
   ]
  },
  {
   "cell_type": "code",
   "execution_count": 9,
   "metadata": {},
   "outputs": [
    {
     "data": {
      "text/plain": [
       "(0.9706666666666667, {'C': 10, 'gamma': 'scale', 'kernel': 'rbf'})"
      ]
     },
     "execution_count": 9,
     "metadata": {},
     "output_type": "execute_result"
    }
   ],
   "source": [
    "clf.best_score_, clf.best_params_"
   ]
  },
  {
   "cell_type": "code",
   "execution_count": 10,
   "metadata": {},
   "outputs": [
    {
     "name": "stdout",
     "output_type": "stream",
     "text": [
      "96.65\n"
     ]
    },
    {
     "data": {
      "image/png": "[encoded data removed]",
      "text/plain": [
       "<Figure size 720x720 with 1 Axes>"
      ]
     },
     "metadata": {
      "needs_background": "light"
     },
     "output_type": "display_data"
    },
    {
     "name": "stdout",
     "output_type": "stream",
     "text": [
      "              precision    recall  f1-score   support\n",
      "\n",
      "           0       0.98      0.96      0.97       409\n",
      "           1       1.00      1.00      1.00       456\n",
      "           2       0.97      0.97      0.97       410\n",
      "           3       0.98      0.94      0.96       424\n",
      "           4       0.94      0.98      0.96       357\n",
      "           5       0.96      0.98      0.97       349\n",
      "           6       0.97      0.98      0.97       406\n",
      "           7       0.97      0.96      0.97       419\n",
      "           8       0.97      0.92      0.95       393\n",
      "           9       0.93      0.98      0.95       377\n",
      "\n",
      "    accuracy                           0.97      4000\n",
      "   macro avg       0.97      0.97      0.97      4000\n",
      "weighted avg       0.97      0.97      0.97      4000\n",
      "\n"
     ]
    }
   ],
   "source": [
    "model = svm.SVC(**clf.best_params_)\n",
    "model.fit(imData[:6000], train_labels[:6000])\n",
    "pred_labels = model.predict(imData[6000:10000])\n",
    "real_labels = train_labels[6000:10000]\n",
    "\n",
    "mask = pred_labels == real_labels\n",
    "correct = np.count_nonzero(mask)\n",
    "print(correct*100.0/pred_labels.size)\n",
    "\n",
    "cm = confusion_matrix(real_labels, pred_labels)\n",
    "fig = plt.figure(figsize = (10,10))\n",
    "sns.heatmap(cm, annot = True, square = True, fmt = 'd', cbar = False)\n",
    "plt.show()\n",
    "print(classification_report(real_labels, pred_labels))"
   ]
  },
  {
   "cell_type": "markdown",
   "metadata": {},
   "source": [
    "## Random Forest Classifier ##"
   ]
  },
  {
   "cell_type": "code",
   "execution_count": 28,
   "metadata": {},
   "outputs": [
    {
     "name": "stdout",
     "output_type": "stream",
     "text": [
      "Fitting 5 folds for each of 18 candidates, totalling 90 fits\n",
      "[CV 1/5] END criterion=entropy, max_depth=15, max_features=1; total time=   0.9s\n",
      "[CV 2/5] END criterion=entropy, max_depth=15, max_features=1; total time=   0.9s\n",
      "[CV 3/5] END criterion=entropy, max_depth=15, max_features=1; total time=   0.8s\n",
      "[CV 4/5] END criterion=entropy, max_depth=15, max_features=1; total time=   1.0s\n",
      "[CV 5/5] END criterion=entropy, max_depth=15, max_features=1; total time=   0.9s\n",
      "[CV 1/5] END criterion=entropy, max_depth=15, max_features=30; total time=  16.4s\n",
      "[CV 2/5] END criterion=entropy, max_depth=15, max_features=30; total time=  16.8s\n",
      "[CV 3/5] END criterion=entropy, max_depth=15, max_features=30; total time=  16.9s\n",
      "[CV 4/5] END criterion=entropy, max_depth=15, max_features=30; total time=  16.6s\n",
      "[CV 5/5] END criterion=entropy, max_depth=15, max_features=30; total time=  11.0s\n",
      "[CV 1/5] END criterion=entropy, max_depth=15, max_features=60; total time=  32.9s\n",
      "[CV 2/5] END criterion=entropy, max_depth=15, max_features=60; total time=  32.8s\n",
      "[CV 3/5] END criterion=entropy, max_depth=15, max_features=60; total time=  21.3s\n",
      "[CV 4/5] END criterion=entropy, max_depth=15, max_features=60; total time=  32.0s\n",
      "[CV 5/5] END criterion=entropy, max_depth=15, max_features=60; total time=  32.7s\n",
      "[CV 1/5] END criterion=entropy, max_depth=20, max_features=1; total time=   0.9s\n",
      "[CV 2/5] END criterion=entropy, max_depth=20, max_features=1; total time=   0.9s\n",
      "[CV 3/5] END criterion=entropy, max_depth=20, max_features=1; total time=   0.9s\n",
      "[CV 4/5] END criterion=entropy, max_depth=20, max_features=1; total time=   0.9s\n",
      "[CV 5/5] END criterion=entropy, max_depth=20, max_features=1; total time=   0.7s\n",
      "[CV 1/5] END criterion=entropy, max_depth=20, max_features=30; total time=  10.9s\n",
      "[CV 2/5] END criterion=entropy, max_depth=20, max_features=30; total time=  16.9s\n",
      "[CV 3/5] END criterion=entropy, max_depth=20, max_features=30; total time=  10.9s\n",
      "[CV 4/5] END criterion=entropy, max_depth=20, max_features=30; total time=  16.2s\n",
      "[CV 5/5] END criterion=entropy, max_depth=20, max_features=30; total time=  10.9s\n",
      "[CV 1/5] END criterion=entropy, max_depth=20, max_features=60; total time=  32.6s\n",
      "[CV 2/5] END criterion=entropy, max_depth=20, max_features=60; total time=  33.0s\n",
      "[CV 3/5] END criterion=entropy, max_depth=20, max_features=60; total time=  32.7s\n",
      "[CV 4/5] END criterion=entropy, max_depth=20, max_features=60; total time=  32.2s\n",
      "[CV 5/5] END criterion=entropy, max_depth=20, max_features=60; total time=  32.7s\n",
      "[CV 1/5] END criterion=entropy, max_depth=25, max_features=1; total time=   1.0s\n",
      "[CV 2/5] END criterion=entropy, max_depth=25, max_features=1; total time=   0.9s\n",
      "[CV 3/5] END criterion=entropy, max_depth=25, max_features=1; total time=   0.9s\n",
      "[CV 4/5] END criterion=entropy, max_depth=25, max_features=1; total time=   0.9s\n",
      "[CV 5/5] END criterion=entropy, max_depth=25, max_features=1; total time=   0.9s\n",
      "[CV 1/5] END criterion=entropy, max_depth=25, max_features=30; total time=  16.4s\n",
      "[CV 2/5] END criterion=entropy, max_depth=25, max_features=30; total time=  16.8s\n",
      "[CV 3/5] END criterion=entropy, max_depth=25, max_features=30; total time=  16.5s\n",
      "[CV 4/5] END criterion=entropy, max_depth=25, max_features=30; total time=  16.7s\n",
      "[CV 5/5] END criterion=entropy, max_depth=25, max_features=30; total time=  10.8s\n",
      "[CV 1/5] END criterion=entropy, max_depth=25, max_features=60; total time=  33.1s\n",
      "[CV 2/5] END criterion=entropy, max_depth=25, max_features=60; total time=  33.3s\n",
      "[CV 3/5] END criterion=entropy, max_depth=25, max_features=60; total time=  32.1s\n",
      "[CV 4/5] END criterion=entropy, max_depth=25, max_features=60; total time=  32.3s\n",
      "[CV 5/5] END criterion=entropy, max_depth=25, max_features=60; total time=  32.8s\n",
      "[CV 1/5] END ...criterion=gini, max_depth=15, max_features=1; total time=   0.5s\n",
      "[CV 2/5] END ...criterion=gini, max_depth=15, max_features=1; total time=   0.4s\n",
      "[CV 3/5] END ...criterion=gini, max_depth=15, max_features=1; total time=   0.5s\n",
      "[CV 4/5] END ...criterion=gini, max_depth=15, max_features=1; total time=   0.5s\n",
      "[CV 5/5] END ...criterion=gini, max_depth=15, max_features=1; total time=   0.4s\n",
      "[CV 1/5] END ..criterion=gini, max_depth=15, max_features=30; total time=   6.3s\n",
      "[CV 2/5] END ..criterion=gini, max_depth=15, max_features=30; total time=   6.3s\n",
      "[CV 3/5] END ..criterion=gini, max_depth=15, max_features=30; total time=   6.4s\n",
      "[CV 4/5] END ..criterion=gini, max_depth=15, max_features=30; total time=   6.3s\n",
      "[CV 5/5] END ..criterion=gini, max_depth=15, max_features=30; total time=   6.3s\n",
      "[CV 1/5] END ..criterion=gini, max_depth=15, max_features=60; total time=  12.4s\n",
      "[CV 2/5] END ..criterion=gini, max_depth=15, max_features=60; total time=  12.5s\n",
      "[CV 3/5] END ..criterion=gini, max_depth=15, max_features=60; total time=  12.4s\n",
      "[CV 4/5] END ..criterion=gini, max_depth=15, max_features=60; total time=  12.3s\n",
      "[CV 5/5] END ..criterion=gini, max_depth=15, max_features=60; total time=  12.3s\n",
      "[CV 1/5] END ...criterion=gini, max_depth=20, max_features=1; total time=   0.5s\n",
      "[CV 2/5] END ...criterion=gini, max_depth=20, max_features=1; total time=   0.5s\n",
      "[CV 3/5] END ...criterion=gini, max_depth=20, max_features=1; total time=   0.5s\n",
      "[CV 4/5] END ...criterion=gini, max_depth=20, max_features=1; total time=   0.5s\n",
      "[CV 5/5] END ...criterion=gini, max_depth=20, max_features=1; total time=   0.5s\n",
      "[CV 1/5] END ..criterion=gini, max_depth=20, max_features=30; total time=   6.5s\n",
      "[CV 2/5] END ..criterion=gini, max_depth=20, max_features=30; total time=   6.4s\n",
      "[CV 3/5] END ..criterion=gini, max_depth=20, max_features=30; total time=   6.4s\n",
      "[CV 4/5] END ..criterion=gini, max_depth=20, max_features=30; total time=   6.3s\n",
      "[CV 5/5] END ..criterion=gini, max_depth=20, max_features=30; total time=   6.4s\n",
      "[CV 1/5] END ..criterion=gini, max_depth=20, max_features=60; total time=  12.6s\n",
      "[CV 2/5] END ..criterion=gini, max_depth=20, max_features=60; total time=  12.9s\n",
      "[CV 3/5] END ..criterion=gini, max_depth=20, max_features=60; total time=  12.7s\n",
      "[CV 4/5] END ..criterion=gini, max_depth=20, max_features=60; total time=  12.5s\n",
      "[CV 5/5] END ..criterion=gini, max_depth=20, max_features=60; total time=  12.4s\n",
      "[CV 1/5] END ...criterion=gini, max_depth=25, max_features=1; total time=   0.5s\n",
      "[CV 2/5] END ...criterion=gini, max_depth=25, max_features=1; total time=   0.5s\n",
      "[CV 3/5] END ...criterion=gini, max_depth=25, max_features=1; total time=   0.5s\n",
      "[CV 4/5] END ...criterion=gini, max_depth=25, max_features=1; total time=   0.5s\n",
      "[CV 5/5] END ...criterion=gini, max_depth=25, max_features=1; total time=   0.5s\n",
      "[CV 1/5] END ..criterion=gini, max_depth=25, max_features=30; total time=   6.4s\n",
      "[CV 2/5] END ..criterion=gini, max_depth=25, max_features=30; total time=   6.4s\n",
      "[CV 3/5] END ..criterion=gini, max_depth=25, max_features=30; total time=   6.4s\n",
      "[CV 4/5] END ..criterion=gini, max_depth=25, max_features=30; total time=   6.4s\n",
      "[CV 5/5] END ..criterion=gini, max_depth=25, max_features=30; total time=   6.4s\n",
      "[CV 1/5] END ..criterion=gini, max_depth=25, max_features=60; total time=  12.5s\n",
      "[CV 2/5] END ..criterion=gini, max_depth=25, max_features=60; total time=  12.7s\n",
      "[CV 3/5] END ..criterion=gini, max_depth=25, max_features=60; total time=  12.7s\n",
      "[CV 4/5] END ..criterion=gini, max_depth=25, max_features=60; total time=  12.5s\n",
      "[CV 5/5] END ..criterion=gini, max_depth=25, max_features=60; total time=  12.5s\n"
     ]
    },
    {
     "data": {
      "text/plain": [
       "GridSearchCV(cv=5, estimator=RandomForestClassifier(),\n",
       "             param_grid={'criterion': ['entropy', 'gini'],\n",
       "                         'max_depth': [15, 20, 25],\n",
       "                         'max_features': [1, 30, 60]},\n",
       "             verbose=4)"
      ]
     },
     "execution_count": 28,
     "metadata": {},
     "output_type": "execute_result"
    }
   ],
   "source": [
    "from sklearn.ensemble import RandomForestClassifier\n",
    "\n",
    "params = {'max_features': [1,30,60],\n",
    "          'max_depth': [15,20,25], \n",
    "          'criterion': [\"entropy\",\"gini\"]}\n",
    "model = RandomForestClassifier()\n",
    "\n",
    "grid=GridSearchCV(estimator=model, param_grid=params, cv=5, verbose=4)\n",
    "grid.fit(imData[:6000], train_labels[:6000])\n"
   ]
  },
  {
   "cell_type": "code",
   "execution_count": 29,
   "metadata": {},
   "outputs": [
    {
     "data": {
      "text/plain": [
       "(0.9371666666666666,\n",
       " {'criterion': 'entropy', 'max_depth': 25, 'max_features': 30})"
      ]
     },
     "execution_count": 29,
     "metadata": {},
     "output_type": "execute_result"
    }
   ],
   "source": [
    "grid.best_score_, grid.best_params_"
   ]
  },
  {
   "cell_type": "code",
   "execution_count": 30,
   "metadata": {},
   "outputs": [
    {
     "name": "stdout",
     "output_type": "stream",
     "text": [
      "92.7\n"
     ]
    },
    {
     "data": {
      "image/png": "[encoded data removed]",
      "text/plain": [
       "<Figure size 720x720 with 1 Axes>"
      ]
     },
     "metadata": {
      "needs_background": "light"
     },
     "output_type": "display_data"
    },
    {
     "name": "stdout",
     "output_type": "stream",
     "text": [
      "              precision    recall  f1-score   support\n",
      "\n",
      "           0       0.91      0.94      0.93       409\n",
      "           1       0.98      0.99      0.99       456\n",
      "           2       0.92      0.90      0.91       410\n",
      "           3       0.93      0.90      0.92       424\n",
      "           4       0.92      0.96      0.94       357\n",
      "           5       0.90      0.94      0.92       349\n",
      "           6       0.93      0.95      0.94       406\n",
      "           7       0.92      0.92      0.92       419\n",
      "           8       0.95      0.82      0.88       393\n",
      "           9       0.89      0.94      0.91       377\n",
      "\n",
      "    accuracy                           0.93      4000\n",
      "   macro avg       0.93      0.93      0.93      4000\n",
      "weighted avg       0.93      0.93      0.93      4000\n",
      "\n"
     ]
    }
   ],
   "source": [
    "rfc = RandomForestClassifier(**grid.best_params_)\n",
    "rfc.fit(imData[:6000], train_labels[:6000])\n",
    "\n",
    "pred_labels = rfc.predict(imData[6000:10000])\n",
    "\n",
    "mask = pred_labels==train_labels[6000:10000]\n",
    "correct = np.count_nonzero(mask)\n",
    "print(correct*100.0/pred_labels.size)\n",
    "\n",
    "cm = confusion_matrix(train_labels[6000:10000], pred_labels)\n",
    "fig = plt.figure(figsize = (10,10))\n",
    "sns.heatmap(cm, annot=True, square=True, fmt='d', cbar=False)\n",
    "plt.show()\n",
    "print(classification_report(train_labels[6000:10000], pred_labels))"
   ]
  },
  {
   "cell_type": "markdown",
   "metadata": {},
   "source": [
    "## Sieci:"
   ]
  },
  {
   "cell_type": "code",
   "execution_count": 31,
   "metadata": {},
   "outputs": [],
   "source": [
    "from keras import models\n",
    "from keras import layers\n",
    "\n",
    "network = models.Sequential()\n",
    "network.add(layers.Dense(512, activation='relu', input_shape=(81,)))\n",
    "network.add(layers.Dense(10, activation='softmax'))\n"
   ]
  },
  {
   "cell_type": "code",
   "execution_count": 32,
   "metadata": {},
   "outputs": [],
   "source": [
    "network.compile(optimizer='rmsprop',\n",
    "                loss='categorical_crossentropy',\n",
    "                metrics=['accuracy'])"
   ]
  },
  {
   "cell_type": "code",
   "execution_count": 33,
   "metadata": {},
   "outputs": [],
   "source": [
    "from keras.utils import to_categorical\n",
    "\n",
    "encoded_train_labels = to_categorical(train_labels)\n",
    "encoded_test_labels = to_categorical(test_labels)\n",
    "\n",
    "# encoded_test_labels"
   ]
  },
  {
   "cell_type": "code",
   "execution_count": 34,
   "metadata": {},
   "outputs": [
    {
     "name": "stdout",
     "output_type": "stream",
     "text": [
      "Epoch 1/5\n",
      "47/47 [==============================] - 0s 2ms/step - loss: 1.6690 - accuracy: 0.6240\n",
      "Epoch 2/5\n",
      "47/47 [==============================] - 0s 2ms/step - loss: 0.6440 - accuracy: 0.8688\n",
      "Epoch 3/5\n",
      "47/47 [==============================] - 0s 2ms/step - loss: 0.4101 - accuracy: 0.9013\n",
      "Epoch 4/5\n",
      "47/47 [==============================] - 0s 2ms/step - loss: 0.3029 - accuracy: 0.9210\n",
      "Epoch 5/5\n",
      "47/47 [==============================] - 0s 2ms/step - loss: 0.2662 - accuracy: 0.9235\n"
     ]
    },
    {
     "data": {
      "text/plain": [
       "<tensorflow.python.keras.callbacks.History at 0x7fe4154f9160>"
      ]
     },
     "execution_count": 34,
     "metadata": {},
     "output_type": "execute_result"
    }
   ],
   "source": [
    "network.fit(imData[:6000], encoded_train_labels[:6000], epochs=5, batch_size=128)"
   ]
  },
  {
   "cell_type": "code",
   "execution_count": 35,
   "metadata": {},
   "outputs": [
    {
     "name": "stdout",
     "output_type": "stream",
     "text": [
      "125/125 [==============================] - 0s 776us/step - loss: 0.2857 - accuracy: 0.9150\n",
      "test_acc: 0.9150000214576721\n"
     ]
    }
   ],
   "source": [
    "test_loss, test_acc = network.evaluate(imData[6000:10000], encoded_train_labels[6000:10000])\n",
    "print('test_acc:', test_acc)"
   ]
  },
  {
   "cell_type": "code",
   "execution_count": 36,
   "metadata": {},
   "outputs": [
    {
     "name": "stdout",
     "output_type": "stream",
     "text": [
      "[[1.2230679e-03 2.2876113e-05 2.4311954e-05 5.9944332e-06 5.4416331e-03\n",
      "  1.2632505e-03 9.8987573e-01 1.6299275e-06 1.6860695e-03 4.5541636e-04]]\n"
     ]
    }
   ],
   "source": [
    "pred_probabilities = network.predict(imData[6000:10000])\n",
    "print(pred_probabilities[0:1])"
   ]
  },
  {
   "cell_type": "code",
   "execution_count": 39,
   "metadata": {},
   "outputs": [],
   "source": [
    "pred_labels = np.argmax(pred_probabilities,-1)"
   ]
  },
  {
   "cell_type": "code",
   "execution_count": 40,
   "metadata": {},
   "outputs": [
    {
     "data": {
      "image/png": "[encoded data removed]",
      "text/plain": [
       "<Figure size 720x720 with 1 Axes>"
      ]
     },
     "metadata": {
      "needs_background": "light"
     },
     "output_type": "display_data"
    },
    {
     "name": "stdout",
     "output_type": "stream",
     "text": [
      "              precision    recall  f1-score   support\n",
      "\n",
      "           0       0.90      0.93      0.92       409\n",
      "           1       0.97      0.97      0.97       456\n",
      "           2       0.93      0.89      0.91       410\n",
      "           3       0.93      0.91      0.92       424\n",
      "           4       0.95      0.93      0.94       357\n",
      "           5       0.86      0.96      0.91       349\n",
      "           6       0.88      0.96      0.92       406\n",
      "           7       0.91      0.89      0.90       419\n",
      "           8       0.88      0.83      0.85       393\n",
      "           9       0.92      0.87      0.90       377\n",
      "\n",
      "    accuracy                           0.92      4000\n",
      "   macro avg       0.91      0.91      0.91      4000\n",
      "weighted avg       0.92      0.92      0.91      4000\n",
      "\n"
     ]
    }
   ],
   "source": [
    "cm = confusion_matrix(train_labels[6000:10000], pred_labels)\n",
    "fig = plt.figure(figsize = (10,10))\n",
    "sns.heatmap(cm, annot = True, square = True, fmt = 'd', cbar = False)\n",
    "plt.show()\n",
    "\n",
    "print(classification_report(train_labels[6000:10000], pred_labels))"
   ]
  },
  {
   "cell_type": "markdown",
   "metadata": {},
   "source": [
    "# Trening klasyfikatorów dla danych bez funkcji Deskew\n",
    "Wraz z wyborem parametrów modelu przy użyciu gridSearchCV."
   ]
  },
  {
   "cell_type": "code",
   "execution_count": 41,
   "metadata": {},
   "outputs": [
    {
     "name": "stdout",
     "output_type": "stream",
     "text": [
      "(60000, 81)\n"
     ]
    }
   ],
   "source": [
    "hogdata = [openCVHOG(im) for im in train_images]\n",
    "imData = np.float32(hogdata).reshape(-1,81)\n",
    "print(imData.shape)"
   ]
  },
  {
   "cell_type": "markdown",
   "metadata": {},
   "source": [
    "## SVM"
   ]
  },
  {
   "cell_type": "code",
   "execution_count": 42,
   "metadata": {},
   "outputs": [
    {
     "name": "stdout",
     "output_type": "stream",
     "text": [
      "Fitting 5 folds for each of 8 candidates, totalling 40 fits\n",
      "[CV 1/5] END ................C=1, gamma=scale, kernel=linear; total time=   0.2s\n",
      "[CV 2/5] END ................C=1, gamma=scale, kernel=linear; total time=   0.2s\n",
      "[CV 3/5] END ................C=1, gamma=scale, kernel=linear; total time=   0.2s\n",
      "[CV 4/5] END ................C=1, gamma=scale, kernel=linear; total time=   0.2s\n",
      "[CV 5/5] END ................C=1, gamma=scale, kernel=linear; total time=   0.2s\n",
      "[CV 1/5] END ...................C=1, gamma=scale, kernel=rbf; total time=   0.4s\n",
      "[CV 2/5] END ...................C=1, gamma=scale, kernel=rbf; total time=   0.4s\n",
      "[CV 3/5] END ...................C=1, gamma=scale, kernel=rbf; total time=   0.4s\n",
      "[CV 4/5] END ...................C=1, gamma=scale, kernel=rbf; total time=   0.4s\n",
      "[CV 5/5] END ...................C=1, gamma=scale, kernel=rbf; total time=   0.4s\n",
      "[CV 1/5] END .................C=1, gamma=auto, kernel=linear; total time=   0.2s\n",
      "[CV 2/5] END .................C=1, gamma=auto, kernel=linear; total time=   0.2s\n",
      "[CV 3/5] END .................C=1, gamma=auto, kernel=linear; total time=   0.2s\n",
      "[CV 4/5] END .................C=1, gamma=auto, kernel=linear; total time=   0.2s\n",
      "[CV 5/5] END .................C=1, gamma=auto, kernel=linear; total time=   0.2s\n",
      "[CV 1/5] END ....................C=1, gamma=auto, kernel=rbf; total time=   0.9s\n",
      "[CV 2/5] END ....................C=1, gamma=auto, kernel=rbf; total time=   0.9s\n",
      "[CV 3/5] END ....................C=1, gamma=auto, kernel=rbf; total time=   0.9s\n",
      "[CV 4/5] END ....................C=1, gamma=auto, kernel=rbf; total time=   0.8s\n",
      "[CV 5/5] END ....................C=1, gamma=auto, kernel=rbf; total time=   0.8s\n",
      "[CV 1/5] END ...............C=10, gamma=scale, kernel=linear; total time=   0.2s\n",
      "[CV 2/5] END ...............C=10, gamma=scale, kernel=linear; total time=   0.2s\n",
      "[CV 3/5] END ...............C=10, gamma=scale, kernel=linear; total time=   0.2s\n",
      "[CV 4/5] END ...............C=10, gamma=scale, kernel=linear; total time=   0.2s\n",
      "[CV 5/5] END ...............C=10, gamma=scale, kernel=linear; total time=   0.2s\n",
      "[CV 1/5] END ..................C=10, gamma=scale, kernel=rbf; total time=   0.4s\n",
      "[CV 2/5] END ..................C=10, gamma=scale, kernel=rbf; total time=   0.4s\n",
      "[CV 3/5] END ..................C=10, gamma=scale, kernel=rbf; total time=   0.4s\n",
      "[CV 4/5] END ..................C=10, gamma=scale, kernel=rbf; total time=   0.4s\n",
      "[CV 5/5] END ..................C=10, gamma=scale, kernel=rbf; total time=   0.4s\n",
      "[CV 1/5] END ................C=10, gamma=auto, kernel=linear; total time=   0.2s\n",
      "[CV 2/5] END ................C=10, gamma=auto, kernel=linear; total time=   0.2s\n",
      "[CV 3/5] END ................C=10, gamma=auto, kernel=linear; total time=   0.2s\n",
      "[CV 4/5] END ................C=10, gamma=auto, kernel=linear; total time=   0.2s\n",
      "[CV 5/5] END ................C=10, gamma=auto, kernel=linear; total time=   0.2s\n",
      "[CV 1/5] END ...................C=10, gamma=auto, kernel=rbf; total time=   0.4s\n",
      "[CV 2/5] END ...................C=10, gamma=auto, kernel=rbf; total time=   0.4s\n",
      "[CV 3/5] END ...................C=10, gamma=auto, kernel=rbf; total time=   0.4s\n",
      "[CV 4/5] END ...................C=10, gamma=auto, kernel=rbf; total time=   0.4s\n",
      "[CV 5/5] END ...................C=10, gamma=auto, kernel=rbf; total time=   0.4s\n"
     ]
    },
    {
     "data": {
      "text/plain": [
       "GridSearchCV(cv=5, estimator=SVC(),\n",
       "             param_grid={'C': [1, 10], 'gamma': ('scale', 'auto'),\n",
       "                         'kernel': ('linear', 'rbf')},\n",
       "             verbose=3)"
      ]
     },
     "execution_count": 42,
     "metadata": {},
     "output_type": "execute_result"
    }
   ],
   "source": [
    "from sklearn import svm\n",
    "\n",
    "parameters = {'kernel': ('linear','rbf'), \n",
    "              'C': [1,10], \n",
    "              'gamma': ('scale', 'auto')}\n",
    "\n",
    "svc = svm.SVC()\n",
    "clf = GridSearchCV(svc, parameters, cv=5, verbose=3)\n",
    "\n",
    "clf.fit(imData[:6000], train_labels[:6000])"
   ]
  },
  {
   "cell_type": "code",
   "execution_count": 43,
   "metadata": {},
   "outputs": [
    {
     "data": {
      "text/plain": [
       "(0.9594999999999999, {'C': 10, 'gamma': 'scale', 'kernel': 'rbf'})"
      ]
     },
     "execution_count": 43,
     "metadata": {},
     "output_type": "execute_result"
    }
   ],
   "source": [
    "clf.best_score_, clf.best_params_"
   ]
  },
  {
   "cell_type": "code",
   "execution_count": 44,
   "metadata": {},
   "outputs": [
    {
     "name": "stdout",
     "output_type": "stream",
     "text": [
      "95.35\n"
     ]
    },
    {
     "data": {
      "image/png": "[encoded data removed]",
      "text/plain": [
       "<Figure size 720x720 with 1 Axes>"
      ]
     },
     "metadata": {
      "needs_background": "light"
     },
     "output_type": "display_data"
    },
    {
     "name": "stdout",
     "output_type": "stream",
     "text": [
      "              precision    recall  f1-score   support\n",
      "\n",
      "           0       0.94      0.96      0.95       409\n",
      "           1       0.99      0.99      0.99       456\n",
      "           2       0.95      0.95      0.95       410\n",
      "           3       0.96      0.93      0.95       424\n",
      "           4       0.95      0.97      0.96       357\n",
      "           5       0.94      0.97      0.96       349\n",
      "           6       0.96      0.96      0.96       406\n",
      "           7       0.96      0.94      0.95       419\n",
      "           8       0.96      0.89      0.92       393\n",
      "           9       0.93      0.97      0.95       377\n",
      "\n",
      "    accuracy                           0.95      4000\n",
      "   macro avg       0.95      0.95      0.95      4000\n",
      "weighted avg       0.95      0.95      0.95      4000\n",
      "\n"
     ]
    }
   ],
   "source": [
    "model = svm.SVC(**clf.best_params_)\n",
    "model.fit(imData[:6000], train_labels[:6000])\n",
    "pred_labels = model.predict(imData[6000:10000])\n",
    "real_labels = train_labels[6000:10000]\n",
    "\n",
    "mask = pred_labels == real_labels\n",
    "correct = np.count_nonzero(mask)\n",
    "print(correct*100.0/pred_labels.size)\n",
    "\n",
    "cm = confusion_matrix(real_labels, pred_labels)\n",
    "fig = plt.figure(figsize = (10,10))\n",
    "sns.heatmap(cm, annot = True, square = True, fmt = 'd', cbar = False)\n",
    "plt.show()\n",
    "\n",
    "print(classification_report(real_labels, pred_labels))"
   ]
  },
  {
   "cell_type": "markdown",
   "metadata": {},
   "source": [
    "## Random Forest Classifier ##"
   ]
  },
  {
   "cell_type": "code",
   "execution_count": 45,
   "metadata": {},
   "outputs": [
    {
     "name": "stdout",
     "output_type": "stream",
     "text": [
      "Fitting 5 folds for each of 18 candidates, totalling 90 fits\n",
      "[CV 1/5] END criterion=entropy, max_depth=15, max_features=1; total time=   0.9s\n",
      "[CV 2/5] END criterion=entropy, max_depth=15, max_features=1; total time=   0.9s\n",
      "[CV 3/5] END criterion=entropy, max_depth=15, max_features=1; total time=   0.9s\n",
      "[CV 4/5] END criterion=entropy, max_depth=15, max_features=1; total time=   0.9s\n",
      "[CV 5/5] END criterion=entropy, max_depth=15, max_features=1; total time=   0.9s\n",
      "[CV 1/5] END criterion=entropy, max_depth=15, max_features=30; total time=  16.9s\n",
      "[CV 2/5] END criterion=entropy, max_depth=15, max_features=30; total time=  16.5s\n",
      "[CV 3/5] END criterion=entropy, max_depth=15, max_features=30; total time=  16.4s\n",
      "[CV 4/5] END criterion=entropy, max_depth=15, max_features=30; total time=  16.2s\n",
      "[CV 5/5] END criterion=entropy, max_depth=15, max_features=30; total time=  16.5s\n",
      "[CV 1/5] END criterion=entropy, max_depth=15, max_features=60; total time=  32.6s\n",
      "[CV 2/5] END criterion=entropy, max_depth=15, max_features=60; total time=  32.7s\n",
      "[CV 3/5] END criterion=entropy, max_depth=15, max_features=60; total time=  32.4s\n",
      "[CV 4/5] END criterion=entropy, max_depth=15, max_features=60; total time=  32.0s\n",
      "[CV 5/5] END criterion=entropy, max_depth=15, max_features=60; total time=  32.3s\n",
      "[CV 1/5] END criterion=entropy, max_depth=20, max_features=1; total time=   0.9s\n",
      "[CV 2/5] END criterion=entropy, max_depth=20, max_features=1; total time=   0.9s\n",
      "[CV 3/5] END criterion=entropy, max_depth=20, max_features=1; total time=   0.9s\n",
      "[CV 4/5] END criterion=entropy, max_depth=20, max_features=1; total time=   0.9s\n",
      "[CV 5/5] END criterion=entropy, max_depth=20, max_features=1; total time=   0.9s\n",
      "[CV 1/5] END criterion=entropy, max_depth=20, max_features=30; total time=  16.6s\n",
      "[CV 2/5] END criterion=entropy, max_depth=20, max_features=30; total time=  17.0s\n",
      "[CV 3/5] END criterion=entropy, max_depth=20, max_features=30; total time=  16.4s\n",
      "[CV 4/5] END criterion=entropy, max_depth=20, max_features=30; total time=  16.3s\n",
      "[CV 5/5] END criterion=entropy, max_depth=20, max_features=30; total time=  10.8s\n",
      "[CV 1/5] END criterion=entropy, max_depth=20, max_features=60; total time=  32.7s\n",
      "[CV 2/5] END criterion=entropy, max_depth=20, max_features=60; total time=  21.5s\n",
      "[CV 3/5] END criterion=entropy, max_depth=20, max_features=60; total time=  21.3s\n",
      "[CV 4/5] END criterion=entropy, max_depth=20, max_features=60; total time=  21.1s\n",
      "[CV 5/5] END criterion=entropy, max_depth=20, max_features=60; total time=  21.2s\n",
      "[CV 1/5] END criterion=entropy, max_depth=25, max_features=1; total time=   0.9s\n",
      "[CV 2/5] END criterion=entropy, max_depth=25, max_features=1; total time=   0.9s\n",
      "[CV 3/5] END criterion=entropy, max_depth=25, max_features=1; total time=   0.7s\n",
      "[CV 4/5] END criterion=entropy, max_depth=25, max_features=1; total time=   0.7s\n",
      "[CV 5/5] END criterion=entropy, max_depth=25, max_features=1; total time=   0.7s\n",
      "[CV 1/5] END criterion=entropy, max_depth=25, max_features=30; total time=  16.9s\n",
      "[CV 2/5] END criterion=entropy, max_depth=25, max_features=30; total time=  16.5s\n",
      "[CV 3/5] END criterion=entropy, max_depth=25, max_features=30; total time=  11.0s\n",
      "[CV 4/5] END criterion=entropy, max_depth=25, max_features=30; total time=  16.4s\n",
      "[CV 5/5] END criterion=entropy, max_depth=25, max_features=30; total time=  13.2s\n",
      "[CV 1/5] END criterion=entropy, max_depth=25, max_features=60; total time=  21.3s\n",
      "[CV 2/5] END criterion=entropy, max_depth=25, max_features=60; total time=  32.7s\n",
      "[CV 3/5] END criterion=entropy, max_depth=25, max_features=60; total time=  32.8s\n",
      "[CV 4/5] END criterion=entropy, max_depth=25, max_features=60; total time=  32.3s\n",
      "[CV 5/5] END criterion=entropy, max_depth=25, max_features=60; total time=  21.2s\n",
      "[CV 1/5] END ...criterion=gini, max_depth=15, max_features=1; total time=   0.4s\n",
      "[CV 2/5] END ...criterion=gini, max_depth=15, max_features=1; total time=   0.4s\n",
      "[CV 3/5] END ...criterion=gini, max_depth=15, max_features=1; total time=   0.4s\n",
      "[CV 4/5] END ...criterion=gini, max_depth=15, max_features=1; total time=   0.4s\n",
      "[CV 5/5] END ...criterion=gini, max_depth=15, max_features=1; total time=   0.4s\n",
      "[CV 1/5] END ..criterion=gini, max_depth=15, max_features=30; total time=   6.3s\n",
      "[CV 2/5] END ..criterion=gini, max_depth=15, max_features=30; total time=   6.3s\n",
      "[CV 3/5] END ..criterion=gini, max_depth=15, max_features=30; total time=   6.3s\n",
      "[CV 4/5] END ..criterion=gini, max_depth=15, max_features=30; total time=   6.3s\n",
      "[CV 5/5] END ..criterion=gini, max_depth=15, max_features=30; total time=   6.3s\n",
      "[CV 1/5] END ..criterion=gini, max_depth=15, max_features=60; total time=  12.3s\n",
      "[CV 2/5] END ..criterion=gini, max_depth=15, max_features=60; total time=  12.5s\n",
      "[CV 3/5] END ..criterion=gini, max_depth=15, max_features=60; total time=  12.5s\n",
      "[CV 4/5] END ..criterion=gini, max_depth=15, max_features=60; total time=  12.3s\n",
      "[CV 5/5] END ..criterion=gini, max_depth=15, max_features=60; total time=  12.4s\n",
      "[CV 1/5] END ...criterion=gini, max_depth=20, max_features=1; total time=   0.5s\n",
      "[CV 2/5] END ...criterion=gini, max_depth=20, max_features=1; total time=   0.5s\n",
      "[CV 3/5] END ...criterion=gini, max_depth=20, max_features=1; total time=   0.5s\n",
      "[CV 4/5] END ...criterion=gini, max_depth=20, max_features=1; total time=   0.5s\n",
      "[CV 5/5] END ...criterion=gini, max_depth=20, max_features=1; total time=   0.5s\n",
      "[CV 1/5] END ..criterion=gini, max_depth=20, max_features=30; total time=   6.4s\n",
      "[CV 2/5] END ..criterion=gini, max_depth=20, max_features=30; total time=   6.5s\n",
      "[CV 3/5] END ..criterion=gini, max_depth=20, max_features=30; total time=   6.4s\n",
      "[CV 4/5] END ..criterion=gini, max_depth=20, max_features=30; total time=   6.4s\n",
      "[CV 5/5] END ..criterion=gini, max_depth=20, max_features=30; total time=   6.4s\n",
      "[CV 1/5] END ..criterion=gini, max_depth=20, max_features=60; total time=  12.5s\n",
      "[CV 2/5] END ..criterion=gini, max_depth=20, max_features=60; total time=  12.8s\n",
      "[CV 3/5] END ..criterion=gini, max_depth=20, max_features=60; total time=  12.7s\n",
      "[CV 4/5] END ..criterion=gini, max_depth=20, max_features=60; total time=  12.5s\n",
      "[CV 5/5] END ..criterion=gini, max_depth=20, max_features=60; total time=  12.5s\n",
      "[CV 1/5] END ...criterion=gini, max_depth=25, max_features=1; total time=   0.5s\n",
      "[CV 2/5] END ...criterion=gini, max_depth=25, max_features=1; total time=   0.5s\n",
      "[CV 3/5] END ...criterion=gini, max_depth=25, max_features=1; total time=   0.5s\n",
      "[CV 4/5] END ...criterion=gini, max_depth=25, max_features=1; total time=   0.5s\n",
      "[CV 5/5] END ...criterion=gini, max_depth=25, max_features=1; total time=   0.5s\n",
      "[CV 1/5] END ..criterion=gini, max_depth=25, max_features=30; total time=   6.4s\n",
      "[CV 2/5] END ..criterion=gini, max_depth=25, max_features=30; total time=   6.5s\n",
      "[CV 3/5] END ..criterion=gini, max_depth=25, max_features=30; total time=   6.5s\n",
      "[CV 4/5] END ..criterion=gini, max_depth=25, max_features=30; total time=   6.4s\n",
      "[CV 5/5] END ..criterion=gini, max_depth=25, max_features=30; total time=   6.4s\n",
      "[CV 1/5] END ..criterion=gini, max_depth=25, max_features=60; total time=  12.5s\n",
      "[CV 2/5] END ..criterion=gini, max_depth=25, max_features=60; total time=  12.8s\n",
      "[CV 3/5] END ..criterion=gini, max_depth=25, max_features=60; total time=  12.7s\n",
      "[CV 4/5] END ..criterion=gini, max_depth=25, max_features=60; total time=  12.5s\n",
      "[CV 5/5] END ..criterion=gini, max_depth=25, max_features=60; total time=  12.5s\n"
     ]
    },
    {
     "data": {
      "text/plain": [
       "GridSearchCV(cv=5, estimator=RandomForestClassifier(),\n",
       "             param_grid={'criterion': ['entropy', 'gini'],\n",
       "                         'max_depth': [15, 20, 25],\n",
       "                         'max_features': [1, 30, 60]},\n",
       "             verbose=4)"
      ]
     },
     "execution_count": 45,
     "metadata": {},
     "output_type": "execute_result"
    }
   ],
   "source": [
    "params = {'max_features': [1,30,60],\n",
    "          'max_depth': [15,20,25], \n",
    "          'criterion': [\"entropy\",\"gini\"]}\n",
    "model = RandomForestClassifier()\n",
    "\n",
    "grid=GridSearchCV(estimator=model, param_grid=params, cv=5, verbose = 4)\n",
    "grid.fit(imData[:6000], train_labels[:6000])\n"
   ]
  },
  {
   "cell_type": "code",
   "execution_count": 46,
   "metadata": {},
   "outputs": [
    {
     "data": {
      "text/plain": [
       "(0.9369999999999999,\n",
       " {'criterion': 'gini', 'max_depth': 20, 'max_features': 30})"
      ]
     },
     "execution_count": 46,
     "metadata": {},
     "output_type": "execute_result"
    }
   ],
   "source": [
    "grid.best_score_, grid.best_params_"
   ]
  },
  {
   "cell_type": "code",
   "execution_count": 47,
   "metadata": {},
   "outputs": [
    {
     "name": "stdout",
     "output_type": "stream",
     "text": [
      "92.775\n"
     ]
    },
    {
     "data": {
      "image/png": "[encoded data removed]",
      "text/plain": [
       "<Figure size 720x720 with 1 Axes>"
      ]
     },
     "metadata": {
      "needs_background": "light"
     },
     "output_type": "display_data"
    },
    {
     "name": "stdout",
     "output_type": "stream",
     "text": [
      "              precision    recall  f1-score   support\n",
      "\n",
      "           0       0.92      0.94      0.93       409\n",
      "           1       0.98      0.98      0.98       456\n",
      "           2       0.92      0.92      0.92       410\n",
      "           3       0.94      0.91      0.93       424\n",
      "           4       0.93      0.96      0.94       357\n",
      "           5       0.88      0.94      0.91       349\n",
      "           6       0.92      0.94      0.93       406\n",
      "           7       0.92      0.92      0.92       419\n",
      "           8       0.96      0.82      0.88       393\n",
      "           9       0.89      0.94      0.91       377\n",
      "\n",
      "    accuracy                           0.93      4000\n",
      "   macro avg       0.93      0.93      0.93      4000\n",
      "weighted avg       0.93      0.93      0.93      4000\n",
      "\n"
     ]
    }
   ],
   "source": [
    "rfc =  RandomForestClassifier(**grid.best_params_)\n",
    "rfc = rfc.fit(imData[:6000],train_labels[:6000])\n",
    "\n",
    "pred_labels = rfc.predict(imData[6000:10000])\n",
    "\n",
    "mask = pred_labels==train_labels[6000:10000]\n",
    "correct = np.count_nonzero(mask)\n",
    "print(correct*100.0/pred_labels.size)\n",
    "\n",
    "cm = confusion_matrix(train_labels[6000:10000], pred_labels)\n",
    "fig = plt.figure(figsize = (10,10))\n",
    "sns.heatmap(cm, annot = True, square = True, fmt = 'd', cbar = False)\n",
    "plt.show()\n",
    "\n",
    "print(classification_report(train_labels[6000:10000], pred_labels))"
   ]
  },
  {
   "cell_type": "markdown",
   "metadata": {},
   "source": [
    "## Sieci ##"
   ]
  },
  {
   "cell_type": "code",
   "execution_count": 48,
   "metadata": {},
   "outputs": [],
   "source": [
    "network = models.Sequential()\n",
    "network.add(layers.Dense(512, activation='relu', input_shape=(81,)))\n",
    "network.add(layers.Dense(10, activation='softmax'))"
   ]
  },
  {
   "cell_type": "code",
   "execution_count": 49,
   "metadata": {},
   "outputs": [],
   "source": [
    "network.compile(optimizer='rmsprop',\n",
    "                loss='categorical_crossentropy',\n",
    "                metrics=['accuracy'])"
   ]
  },
  {
   "cell_type": "code",
   "execution_count": 50,
   "metadata": {},
   "outputs": [],
   "source": [
    "encoded_train_labels = to_categorical(train_labels)\n",
    "encoded_test_labels = to_categorical(test_labels)\n",
    "\n",
    "# encoded_test_labels"
   ]
  },
  {
   "cell_type": "code",
   "execution_count": 51,
   "metadata": {},
   "outputs": [
    {
     "name": "stdout",
     "output_type": "stream",
     "text": [
      "Epoch 1/5\n",
      "47/47 [==============================] - 0s 2ms/step - loss: 1.7137 - accuracy: 0.5619\n",
      "Epoch 2/5\n",
      "47/47 [==============================] - 0s 2ms/step - loss: 0.6651 - accuracy: 0.8661\n",
      "Epoch 3/5\n",
      "47/47 [==============================] - 0s 2ms/step - loss: 0.4144 - accuracy: 0.9008\n",
      "Epoch 4/5\n",
      "47/47 [==============================] - 0s 2ms/step - loss: 0.3113 - accuracy: 0.9201\n",
      "Epoch 5/5\n",
      "47/47 [==============================] - 0s 2ms/step - loss: 0.2570 - accuracy: 0.9277\n"
     ]
    },
    {
     "data": {
      "text/plain": [
       "<tensorflow.python.keras.callbacks.History at 0x7fe412706dc0>"
      ]
     },
     "execution_count": 51,
     "metadata": {},
     "output_type": "execute_result"
    }
   ],
   "source": [
    "network.fit(imData[:6000], encoded_train_labels[:6000], epochs=5, batch_size=128)"
   ]
  },
  {
   "cell_type": "code",
   "execution_count": 52,
   "metadata": {},
   "outputs": [
    {
     "name": "stdout",
     "output_type": "stream",
     "text": [
      "125/125 [==============================] - 0s 795us/step - loss: 0.2819 - accuracy: 0.9178\n",
      "test_acc: 0.9177500009536743\n"
     ]
    }
   ],
   "source": [
    "test_loss, test_acc = network.evaluate(imData[6000:10000], encoded_train_labels[6000:10000])\n",
    "print('test_acc:', test_acc)"
   ]
  },
  {
   "cell_type": "code",
   "execution_count": 53,
   "metadata": {},
   "outputs": [
    {
     "name": "stdout",
     "output_type": "stream",
     "text": [
      "[[4.3083522e-03 5.7715053e-05 8.6924098e-05 2.2421076e-05 2.9130954e-02\n",
      "  1.4103221e-03 9.6038187e-01 8.3480918e-06 3.3271925e-03 1.2659129e-03]]\n"
     ]
    }
   ],
   "source": [
    "pred_probabilities = network.predict(imData[6000:10000])\n",
    "print(pred_probabilities[0:1])"
   ]
  },
  {
   "cell_type": "code",
   "execution_count": 54,
   "metadata": {},
   "outputs": [],
   "source": [
    "pred_labels = np.argmax(pred_probabilities,-1)"
   ]
  },
  {
   "cell_type": "code",
   "execution_count": 55,
   "metadata": {},
   "outputs": [
    {
     "data": {
      "image/png": "[encoded data removed]",
      "text/plain": [
       "<Figure size 720x720 with 1 Axes>"
      ]
     },
     "metadata": {
      "needs_background": "light"
     },
     "output_type": "display_data"
    },
    {
     "name": "stdout",
     "output_type": "stream",
     "text": [
      "              precision    recall  f1-score   support\n",
      "\n",
      "           0       0.88      0.96      0.92       409\n",
      "           1       0.98      0.97      0.98       456\n",
      "           2       0.91      0.91      0.91       410\n",
      "           3       0.93      0.89      0.91       424\n",
      "           4       0.89      0.97      0.93       357\n",
      "           5       0.92      0.94      0.93       349\n",
      "           6       0.94      0.95      0.94       406\n",
      "           7       0.86      0.91      0.89       419\n",
      "           8       0.93      0.81      0.87       393\n",
      "           9       0.94      0.86      0.90       377\n",
      "\n",
      "    accuracy                           0.92      4000\n",
      "   macro avg       0.92      0.92      0.92      4000\n",
      "weighted avg       0.92      0.92      0.92      4000\n",
      "\n"
     ]
    }
   ],
   "source": [
    "cm = confusion_matrix(train_labels[6000:10000], pred_labels)\n",
    "\n",
    "fig = plt.figure(figsize = (10,10))\n",
    "sns.heatmap(cm, annot = True, square = True, fmt = 'd', cbar = False)\n",
    "plt.show()\n",
    "print(classification_report(train_labels[6000:10000], pred_labels))"
   ]
  },
  {
   "cell_type": "markdown",
   "metadata": {},
   "source": [
    "# Zadanie 3"
   ]
  },
  {
   "cell_type": "markdown",
   "metadata": {},
   "source": [
    "## Trening klasyfikatorów dla danych bez HOG\n",
    "Wraz z wyborem parametrów modelu przy użyciu gridSearchCV."
   ]
  },
  {
   "cell_type": "code",
   "execution_count": 56,
   "metadata": {},
   "outputs": [],
   "source": [
    "train_deskewed = [deskew(im) for im in train_images]\n",
    "train_deskewed = np.asarray(train_deskewed)"
   ]
  },
  {
   "cell_type": "code",
   "execution_count": 57,
   "metadata": {},
   "outputs": [
    {
     "data": {
      "text/plain": [
       "(60000, 784)"
      ]
     },
     "execution_count": 57,
     "metadata": {},
     "output_type": "execute_result"
    }
   ],
   "source": [
    "train_in = train_deskewed.reshape(-1,28*28)\n",
    "train_lb = train_labels.reshape(-1,)\n",
    "train_in.shape"
   ]
  },
  {
   "cell_type": "markdown",
   "metadata": {},
   "source": [
    "## SVM"
   ]
  },
  {
   "cell_type": "code",
   "execution_count": 58,
   "metadata": {},
   "outputs": [
    {
     "name": "stdout",
     "output_type": "stream",
     "text": [
      "Fitting 5 folds for each of 8 candidates, totalling 40 fits\n",
      "[CV 1/5] END ................C=1, gamma=scale, kernel=linear; total time=   2.2s\n",
      "[CV 2/5] END ................C=1, gamma=scale, kernel=linear; total time=   2.2s\n",
      "[CV 3/5] END ................C=1, gamma=scale, kernel=linear; total time=   2.2s\n",
      "[CV 4/5] END ................C=1, gamma=scale, kernel=linear; total time=   2.2s\n",
      "[CV 5/5] END ................C=1, gamma=scale, kernel=linear; total time=   2.2s\n",
      "[CV 1/5] END ...................C=1, gamma=scale, kernel=rbf; total time=   4.1s\n",
      "[CV 2/5] END ...................C=1, gamma=scale, kernel=rbf; total time=   4.2s\n",
      "[CV 3/5] END ...................C=1, gamma=scale, kernel=rbf; total time=   4.2s\n",
      "[CV 4/5] END ...................C=1, gamma=scale, kernel=rbf; total time=   4.2s\n",
      "[CV 5/5] END ...................C=1, gamma=scale, kernel=rbf; total time=   4.2s\n",
      "[CV 1/5] END .................C=1, gamma=auto, kernel=linear; total time=   2.1s\n",
      "[CV 2/5] END .................C=1, gamma=auto, kernel=linear; total time=   2.2s\n",
      "[CV 3/5] END .................C=1, gamma=auto, kernel=linear; total time=   2.2s\n",
      "[CV 4/5] END .................C=1, gamma=auto, kernel=linear; total time=   2.2s\n",
      "[CV 5/5] END .................C=1, gamma=auto, kernel=linear; total time=   2.1s\n",
      "[CV 1/5] END ....................C=1, gamma=auto, kernel=rbf; total time=  24.5s\n",
      "[CV 2/5] END ....................C=1, gamma=auto, kernel=rbf; total time=  24.5s\n",
      "[CV 3/5] END ....................C=1, gamma=auto, kernel=rbf; total time=  29.5s\n",
      "[CV 4/5] END ....................C=1, gamma=auto, kernel=rbf; total time=  28.6s\n",
      "[CV 5/5] END ....................C=1, gamma=auto, kernel=rbf; total time=  27.1s\n",
      "[CV 1/5] END ...............C=10, gamma=scale, kernel=linear; total time=   2.2s\n",
      "[CV 2/5] END ...............C=10, gamma=scale, kernel=linear; total time=   2.2s\n",
      "[CV 3/5] END ...............C=10, gamma=scale, kernel=linear; total time=   2.2s\n",
      "[CV 4/5] END ...............C=10, gamma=scale, kernel=linear; total time=   2.2s\n",
      "[CV 5/5] END ...............C=10, gamma=scale, kernel=linear; total time=   2.2s\n",
      "[CV 1/5] END ..................C=10, gamma=scale, kernel=rbf; total time=   3.9s\n",
      "[CV 2/5] END ..................C=10, gamma=scale, kernel=rbf; total time=   4.0s\n",
      "[CV 3/5] END ..................C=10, gamma=scale, kernel=rbf; total time=   4.0s\n",
      "[CV 4/5] END ..................C=10, gamma=scale, kernel=rbf; total time=   4.0s\n",
      "[CV 5/5] END ..................C=10, gamma=scale, kernel=rbf; total time=   4.0s\n",
      "[CV 1/5] END ................C=10, gamma=auto, kernel=linear; total time=   2.1s\n",
      "[CV 2/5] END ................C=10, gamma=auto, kernel=linear; total time=   2.2s\n",
      "[CV 3/5] END ................C=10, gamma=auto, kernel=linear; total time=   2.2s\n",
      "[CV 4/5] END ................C=10, gamma=auto, kernel=linear; total time=   2.2s\n",
      "[CV 5/5] END ................C=10, gamma=auto, kernel=linear; total time=   2.2s\n",
      "[CV 1/5] END ...................C=10, gamma=auto, kernel=rbf; total time=  24.6s\n",
      "[CV 2/5] END ...................C=10, gamma=auto, kernel=rbf; total time=  24.5s\n",
      "[CV 3/5] END ...................C=10, gamma=auto, kernel=rbf; total time=  24.7s\n",
      "[CV 4/5] END ...................C=10, gamma=auto, kernel=rbf; total time=  23.8s\n",
      "[CV 5/5] END ...................C=10, gamma=auto, kernel=rbf; total time=  23.7s\n"
     ]
    },
    {
     "data": {
      "text/plain": [
       "GridSearchCV(cv=5, estimator=SVC(),\n",
       "             param_grid={'C': [1, 10], 'gamma': ('scale', 'auto'),\n",
       "                         'kernel': ('linear', 'rbf')},\n",
       "             verbose=3)"
      ]
     },
     "execution_count": 58,
     "metadata": {},
     "output_type": "execute_result"
    }
   ],
   "source": [
    "parameters = {'kernel': ('linear','rbf'), \n",
    "              'C': [1,10], \n",
    "              'gamma': ('scale', 'auto')}\n",
    "\n",
    "svc = svm.SVC()\n",
    "clf = GridSearchCV(svc, parameters, cv=5, verbose=3)\n",
    "\n",
    "clf.fit(train_in[:6000], train_lb[:6000])"
   ]
  },
  {
   "cell_type": "code",
   "execution_count": 59,
   "metadata": {},
   "outputs": [
    {
     "data": {
      "text/plain": [
       "(0.9671666666666667, {'C': 10, 'gamma': 'scale', 'kernel': 'rbf'})"
      ]
     },
     "execution_count": 59,
     "metadata": {},
     "output_type": "execute_result"
    }
   ],
   "source": [
    "clf.best_score_, clf.best_params_"
   ]
  },
  {
   "cell_type": "code",
   "execution_count": 60,
   "metadata": {},
   "outputs": [
    {
     "name": "stdout",
     "output_type": "stream",
     "text": [
      "96.625\n"
     ]
    },
    {
     "data": {
      "image/png": "[encoded data removed]",
      "text/plain": [
       "<Figure size 720x720 with 1 Axes>"
      ]
     },
     "metadata": {
      "needs_background": "light"
     },
     "output_type": "display_data"
    },
    {
     "name": "stdout",
     "output_type": "stream",
     "text": [
      "              precision    recall  f1-score   support\n",
      "\n",
      "           0       0.98      1.00      0.99       409\n",
      "           1       0.98      0.99      0.99       456\n",
      "           2       0.96      0.96      0.96       410\n",
      "           3       0.97      0.93      0.95       424\n",
      "           4       0.94      0.98      0.96       357\n",
      "           5       0.96      0.97      0.97       349\n",
      "           6       0.97      0.98      0.98       406\n",
      "           7       0.97      0.95      0.96       419\n",
      "           8       0.97      0.92      0.94       393\n",
      "           9       0.95      0.98      0.96       377\n",
      "\n",
      "    accuracy                           0.97      4000\n",
      "   macro avg       0.97      0.97      0.97      4000\n",
      "weighted avg       0.97      0.97      0.97      4000\n",
      "\n"
     ]
    }
   ],
   "source": [
    "model = svm.SVC(**clf.best_params_)\n",
    "model.fit(train_in[:6000], train_lb[:6000])\n",
    "pred_labels = model.predict(train_in[6000:10000].reshape(-1, 28*28))\n",
    "real_labels = train_lb[6000:10000]\n",
    "\n",
    "mask = pred_labels == real_labels\n",
    "correct = np.count_nonzero(mask)\n",
    "print(correct*100.0/pred_labels.size)\n",
    "\n",
    "cm = confusion_matrix(real_labels, pred_labels)\n",
    "fig = plt.figure(figsize = (10,10))\n",
    "sns.heatmap(cm, annot = True, square = True, fmt = 'd', cbar = False)\n",
    "plt.show()\n",
    "print(classification_report(real_labels, pred_labels))"
   ]
  },
  {
   "cell_type": "markdown",
   "metadata": {},
   "source": [
    "## Random Forest Classifier ##"
   ]
  },
  {
   "cell_type": "code",
   "execution_count": 61,
   "metadata": {},
   "outputs": [
    {
     "name": "stdout",
     "output_type": "stream",
     "text": [
      "Fitting 5 folds for each of 18 candidates, totalling 90 fits\n",
      "[CV 1/5] END criterion=entropy, max_depth=15, max_features=1; total time=   0.5s\n",
      "[CV 2/5] END criterion=entropy, max_depth=15, max_features=1; total time=   0.5s\n",
      "[CV 3/5] END criterion=entropy, max_depth=15, max_features=1; total time=   0.5s\n",
      "[CV 4/5] END criterion=entropy, max_depth=15, max_features=1; total time=   0.5s\n",
      "[CV 5/5] END criterion=entropy, max_depth=15, max_features=1; total time=   0.5s\n",
      "[CV 1/5] END criterion=entropy, max_depth=15, max_features=30; total time=   2.6s\n",
      "[CV 2/5] END criterion=entropy, max_depth=15, max_features=30; total time=   2.6s\n",
      "[CV 3/5] END criterion=entropy, max_depth=15, max_features=30; total time=   2.6s\n",
      "[CV 4/5] END criterion=entropy, max_depth=15, max_features=30; total time=   2.6s\n",
      "[CV 5/5] END criterion=entropy, max_depth=15, max_features=30; total time=   2.6s\n",
      "[CV 1/5] END criterion=entropy, max_depth=15, max_features=60; total time=   4.7s\n",
      "[CV 2/5] END criterion=entropy, max_depth=15, max_features=60; total time=   4.7s\n",
      "[CV 3/5] END criterion=entropy, max_depth=15, max_features=60; total time=   4.7s\n",
      "[CV 4/5] END criterion=entropy, max_depth=15, max_features=60; total time=   4.7s\n",
      "[CV 5/5] END criterion=entropy, max_depth=15, max_features=60; total time=   4.7s\n",
      "[CV 1/5] END criterion=entropy, max_depth=20, max_features=1; total time=   0.5s\n",
      "[CV 2/5] END criterion=entropy, max_depth=20, max_features=1; total time=   0.5s\n",
      "[CV 3/5] END criterion=entropy, max_depth=20, max_features=1; total time=   0.5s\n",
      "[CV 4/5] END criterion=entropy, max_depth=20, max_features=1; total time=   0.5s\n",
      "[CV 5/5] END criterion=entropy, max_depth=20, max_features=1; total time=   0.5s\n",
      "[CV 1/5] END criterion=entropy, max_depth=20, max_features=30; total time=   2.5s\n",
      "[CV 2/5] END criterion=entropy, max_depth=20, max_features=30; total time=   2.6s\n",
      "[CV 3/5] END criterion=entropy, max_depth=20, max_features=30; total time=   2.5s\n",
      "[CV 4/5] END criterion=entropy, max_depth=20, max_features=30; total time=   2.5s\n",
      "[CV 5/5] END criterion=entropy, max_depth=20, max_features=30; total time=   2.6s\n",
      "[CV 1/5] END criterion=entropy, max_depth=20, max_features=60; total time=   4.6s\n",
      "[CV 2/5] END criterion=entropy, max_depth=20, max_features=60; total time=   4.6s\n",
      "[CV 3/5] END criterion=entropy, max_depth=20, max_features=60; total time=   4.6s\n",
      "[CV 4/5] END criterion=entropy, max_depth=20, max_features=60; total time=   4.6s\n",
      "[CV 5/5] END criterion=entropy, max_depth=20, max_features=60; total time=   4.5s\n",
      "[CV 1/5] END criterion=entropy, max_depth=25, max_features=1; total time=   0.6s\n",
      "[CV 2/5] END criterion=entropy, max_depth=25, max_features=1; total time=   0.6s\n",
      "[CV 3/5] END criterion=entropy, max_depth=25, max_features=1; total time=   0.6s\n",
      "[CV 4/5] END criterion=entropy, max_depth=25, max_features=1; total time=   0.6s\n",
      "[CV 5/5] END criterion=entropy, max_depth=25, max_features=1; total time=   0.6s\n",
      "[CV 1/5] END criterion=entropy, max_depth=25, max_features=30; total time=   2.6s\n",
      "[CV 2/5] END criterion=entropy, max_depth=25, max_features=30; total time=   2.7s\n",
      "[CV 3/5] END criterion=entropy, max_depth=25, max_features=30; total time=   2.5s\n",
      "[CV 4/5] END criterion=entropy, max_depth=25, max_features=30; total time=   2.5s\n",
      "[CV 5/5] END criterion=entropy, max_depth=25, max_features=30; total time=   2.5s\n",
      "[CV 1/5] END criterion=entropy, max_depth=25, max_features=60; total time=   4.6s\n",
      "[CV 2/5] END criterion=entropy, max_depth=25, max_features=60; total time=   4.6s\n",
      "[CV 3/5] END criterion=entropy, max_depth=25, max_features=60; total time=   4.7s\n",
      "[CV 4/5] END criterion=entropy, max_depth=25, max_features=60; total time=   4.7s\n",
      "[CV 5/5] END criterion=entropy, max_depth=25, max_features=60; total time=   4.5s\n",
      "[CV 1/5] END ...criterion=gini, max_depth=15, max_features=1; total time=   0.4s\n",
      "[CV 2/5] END ...criterion=gini, max_depth=15, max_features=1; total time=   0.4s\n",
      "[CV 3/5] END ...criterion=gini, max_depth=15, max_features=1; total time=   0.4s\n",
      "[CV 4/5] END ...criterion=gini, max_depth=15, max_features=1; total time=   0.4s\n",
      "[CV 5/5] END ...criterion=gini, max_depth=15, max_features=1; total time=   0.4s\n",
      "[CV 1/5] END ..criterion=gini, max_depth=15, max_features=30; total time=   1.9s\n",
      "[CV 2/5] END ..criterion=gini, max_depth=15, max_features=30; total time=   1.9s\n",
      "[CV 3/5] END ..criterion=gini, max_depth=15, max_features=30; total time=   1.9s\n",
      "[CV 4/5] END ..criterion=gini, max_depth=15, max_features=30; total time=   1.8s\n",
      "[CV 5/5] END ..criterion=gini, max_depth=15, max_features=30; total time=   1.8s\n",
      "[CV 1/5] END ..criterion=gini, max_depth=15, max_features=60; total time=   3.3s\n",
      "[CV 2/5] END ..criterion=gini, max_depth=15, max_features=60; total time=   3.4s\n",
      "[CV 3/5] END ..criterion=gini, max_depth=15, max_features=60; total time=   3.4s\n",
      "[CV 4/5] END ..criterion=gini, max_depth=15, max_features=60; total time=   3.3s\n",
      "[CV 5/5] END ..criterion=gini, max_depth=15, max_features=60; total time=   3.4s\n",
      "[CV 1/5] END ...criterion=gini, max_depth=20, max_features=1; total time=   0.4s\n",
      "[CV 2/5] END ...criterion=gini, max_depth=20, max_features=1; total time=   0.4s\n",
      "[CV 3/5] END ...criterion=gini, max_depth=20, max_features=1; total time=   0.4s\n",
      "[CV 4/5] END ...criterion=gini, max_depth=20, max_features=1; total time=   0.4s\n",
      "[CV 5/5] END ...criterion=gini, max_depth=20, max_features=1; total time=   0.4s\n",
      "[CV 1/5] END ..criterion=gini, max_depth=20, max_features=30; total time=   1.9s\n",
      "[CV 2/5] END ..criterion=gini, max_depth=20, max_features=30; total time=   1.9s\n",
      "[CV 3/5] END ..criterion=gini, max_depth=20, max_features=30; total time=   1.9s\n",
      "[CV 4/5] END ..criterion=gini, max_depth=20, max_features=30; total time=   1.9s\n",
      "[CV 5/5] END ..criterion=gini, max_depth=20, max_features=30; total time=   1.9s\n",
      "[CV 1/5] END ..criterion=gini, max_depth=20, max_features=60; total time=   3.3s\n",
      "[CV 2/5] END ..criterion=gini, max_depth=20, max_features=60; total time=   3.4s\n",
      "[CV 3/5] END ..criterion=gini, max_depth=20, max_features=60; total time=   3.4s\n",
      "[CV 4/5] END ..criterion=gini, max_depth=20, max_features=60; total time=   3.4s\n",
      "[CV 5/5] END ..criterion=gini, max_depth=20, max_features=60; total time=   3.3s\n",
      "[CV 1/5] END ...criterion=gini, max_depth=25, max_features=1; total time=   0.5s\n",
      "[CV 2/5] END ...criterion=gini, max_depth=25, max_features=1; total time=   0.4s\n",
      "[CV 3/5] END ...criterion=gini, max_depth=25, max_features=1; total time=   0.4s\n",
      "[CV 4/5] END ...criterion=gini, max_depth=25, max_features=1; total time=   0.4s\n",
      "[CV 5/5] END ...criterion=gini, max_depth=25, max_features=1; total time=   0.4s\n",
      "[CV 1/5] END ..criterion=gini, max_depth=25, max_features=30; total time=   1.9s\n",
      "[CV 2/5] END ..criterion=gini, max_depth=25, max_features=30; total time=   1.8s\n",
      "[CV 3/5] END ..criterion=gini, max_depth=25, max_features=30; total time=   1.9s\n",
      "[CV 4/5] END ..criterion=gini, max_depth=25, max_features=30; total time=   1.8s\n",
      "[CV 5/5] END ..criterion=gini, max_depth=25, max_features=30; total time=   1.8s\n",
      "[CV 1/5] END ..criterion=gini, max_depth=25, max_features=60; total time=   3.3s\n",
      "[CV 2/5] END ..criterion=gini, max_depth=25, max_features=60; total time=   3.3s\n",
      "[CV 3/5] END ..criterion=gini, max_depth=25, max_features=60; total time=   3.3s\n",
      "[CV 4/5] END ..criterion=gini, max_depth=25, max_features=60; total time=   3.3s\n",
      "[CV 5/5] END ..criterion=gini, max_depth=25, max_features=60; total time=   3.3s\n"
     ]
    },
    {
     "data": {
      "text/plain": [
       "GridSearchCV(cv=5, estimator=RandomForestClassifier(),\n",
       "             param_grid={'criterion': ['entropy', 'gini'],\n",
       "                         'max_depth': [15, 20, 25],\n",
       "                         'max_features': [1, 30, 60]},\n",
       "             verbose=4)"
      ]
     },
     "execution_count": 61,
     "metadata": {},
     "output_type": "execute_result"
    }
   ],
   "source": [
    "params = {'max_features': [1,30,60],\n",
    "          'max_depth': [15,20,25], \n",
    "          'criterion': [\"entropy\",\"gini\"]}\n",
    "model = RandomForestClassifier()\n",
    "\n",
    "grid=GridSearchCV(estimator=model, param_grid=params, cv=5, verbose = 4)\n",
    "grid.fit(train_in[:6000],train_lb[:6000])\n"
   ]
  },
  {
   "cell_type": "code",
   "execution_count": 62,
   "metadata": {},
   "outputs": [
    {
     "data": {
      "text/plain": [
       "(0.952, {'criterion': 'entropy', 'max_depth': 15, 'max_features': 60})"
      ]
     },
     "execution_count": 62,
     "metadata": {},
     "output_type": "execute_result"
    }
   ],
   "source": [
    "grid.best_score_, grid.best_params_"
   ]
  },
  {
   "cell_type": "code",
   "execution_count": 63,
   "metadata": {},
   "outputs": [
    {
     "name": "stdout",
     "output_type": "stream",
     "text": [
      "94.725\n"
     ]
    },
    {
     "data": {
      "image/png": "[encoded data removed]",
      "text/plain": [
       "<Figure size 720x720 with 1 Axes>"
      ]
     },
     "metadata": {
      "needs_background": "light"
     },
     "output_type": "display_data"
    },
    {
     "name": "stdout",
     "output_type": "stream",
     "text": [
      "              precision    recall  f1-score   support\n",
      "\n",
      "           0       0.97      0.98      0.98       409\n",
      "           1       0.98      0.98      0.98       456\n",
      "           2       0.93      0.95      0.94       410\n",
      "           3       0.95      0.92      0.93       424\n",
      "           4       0.90      0.96      0.93       357\n",
      "           5       0.94      0.95      0.95       349\n",
      "           6       0.96      0.98      0.97       406\n",
      "           7       0.98      0.94      0.96       419\n",
      "           8       0.95      0.88      0.91       393\n",
      "           9       0.90      0.94      0.92       377\n",
      "\n",
      "    accuracy                           0.95      4000\n",
      "   macro avg       0.95      0.95      0.95      4000\n",
      "weighted avg       0.95      0.95      0.95      4000\n",
      "\n"
     ]
    }
   ],
   "source": [
    "rfc =  RandomForestClassifier(**grid.best_params_)\n",
    "rfc = rfc.fit(train_in[:6000],train_lb[:6000])\n",
    "\n",
    "pred_labels = rfc.predict(train_in[6000:10000])\n",
    "\n",
    "mask = pred_labels==train_lb[6000:10000]\n",
    "correct = np.count_nonzero(mask)\n",
    "print(correct*100.0/pred_labels.size)\n",
    "\n",
    "cm = confusion_matrix(train_lb[6000:10000], pred_labels)\n",
    "fig = plt.figure(figsize = (10,10))\n",
    "sns.heatmap(cm, annot = True, square = True, fmt = 'd', cbar = False)\n",
    "plt.show()\n",
    "print(classification_report(train_lb[6000:10000], pred_labels))"
   ]
  },
  {
   "cell_type": "markdown",
   "metadata": {},
   "source": [
    "## Sieci:"
   ]
  },
  {
   "cell_type": "code",
   "execution_count": 64,
   "metadata": {},
   "outputs": [],
   "source": [
    "network = models.Sequential()\n",
    "network.add(layers.Dense(512, activation='relu', input_shape=(784,)))\n",
    "network.add(layers.Dense(10, activation='softmax'))"
   ]
  },
  {
   "cell_type": "code",
   "execution_count": 65,
   "metadata": {},
   "outputs": [],
   "source": [
    "network.compile(optimizer='rmsprop',\n",
    "                loss='categorical_crossentropy',\n",
    "                metrics=['accuracy'])"
   ]
  },
  {
   "cell_type": "code",
   "execution_count": 66,
   "metadata": {},
   "outputs": [],
   "source": [
    "encoded_train_labels = to_categorical(train_lb)"
   ]
  },
  {
   "cell_type": "code",
   "execution_count": 67,
   "metadata": {},
   "outputs": [
    {
     "name": "stdout",
     "output_type": "stream",
     "text": [
      "Epoch 1/5\n",
      "47/47 [==============================] - 0s 4ms/step - loss: 59.5893 - accuracy: 0.6595\n",
      "Epoch 2/5\n",
      "47/47 [==============================] - 0s 4ms/step - loss: 4.2964 - accuracy: 0.9201\n",
      "Epoch 3/5\n",
      "47/47 [==============================] - 0s 4ms/step - loss: 2.5959 - accuracy: 0.9399\n",
      "Epoch 4/5\n",
      "47/47 [==============================] - 0s 4ms/step - loss: 1.3126 - accuracy: 0.9604\n",
      "Epoch 5/5\n",
      "47/47 [==============================] - 0s 4ms/step - loss: 1.2127 - accuracy: 0.9626\n"
     ]
    },
    {
     "data": {
      "text/plain": [
       "<tensorflow.python.keras.callbacks.History at 0x7fe3e8474460>"
      ]
     },
     "execution_count": 67,
     "metadata": {},
     "output_type": "execute_result"
    }
   ],
   "source": [
    "network.fit(train_in[:6000], encoded_train_labels[:6000], epochs=5, batch_size=128)"
   ]
  },
  {
   "cell_type": "code",
   "execution_count": 68,
   "metadata": {},
   "outputs": [
    {
     "name": "stdout",
     "output_type": "stream",
     "text": [
      "125/125 [==============================] - 0s 1ms/step - loss: 3.8985 - accuracy: 0.9147\n",
      "test_acc: 0.9147499799728394\n"
     ]
    }
   ],
   "source": [
    "test_loss, test_acc = network.evaluate(train_in[6000:10000], encoded_train_labels[6000:10000])\n",
    "print('test_acc:', test_acc)"
   ]
  },
  {
   "cell_type": "code",
   "execution_count": 69,
   "metadata": {},
   "outputs": [
    {
     "name": "stdout",
     "output_type": "stream",
     "text": [
      "[[0. 0. 0. 0. 0. 0. 1. 0. 0. 0.]]\n"
     ]
    }
   ],
   "source": [
    "pred_probabilities = network.predict(train_in[6000:10000])\n",
    "print(pred_probabilities[0:1])"
   ]
  },
  {
   "cell_type": "code",
   "execution_count": 70,
   "metadata": {},
   "outputs": [],
   "source": [
    "pred_labels = np.argmax(pred_probabilities,-1)"
   ]
  },
  {
   "cell_type": "code",
   "execution_count": 71,
   "metadata": {},
   "outputs": [
    {
     "data": {
      "image/png": "[encoded data removed]",
      "text/plain": [
       "<Figure size 720x720 with 1 Axes>"
      ]
     },
     "metadata": {
      "needs_background": "light"
     },
     "output_type": "display_data"
    },
    {
     "name": "stdout",
     "output_type": "stream",
     "text": [
      "              precision    recall  f1-score   support\n",
      "\n",
      "           0       0.98      0.98      0.98       409\n",
      "           1       0.99      0.95      0.97       456\n",
      "           2       0.97      0.92      0.94       410\n",
      "           3       0.91      0.95      0.93       424\n",
      "           4       0.67      1.00      0.80       357\n",
      "           5       0.94      0.92      0.93       349\n",
      "           6       0.91      0.98      0.94       406\n",
      "           7       0.94      0.93      0.94       419\n",
      "           8       0.98      0.83      0.90       393\n",
      "           9       0.96      0.67      0.79       377\n",
      "\n",
      "    accuracy                           0.91      4000\n",
      "   macro avg       0.93      0.91      0.91      4000\n",
      "weighted avg       0.93      0.91      0.92      4000\n",
      "\n"
     ]
    }
   ],
   "source": [
    "cm = confusion_matrix(train_lb[6000:10000], pred_labels)\n",
    "fig = plt.figure(figsize = (10,10))\n",
    "sns.heatmap(cm, annot = True, square = True, fmt = 'd', cbar = False)\n",
    "plt.show()\n",
    "print(classification_report(train_lb[6000:10000], pred_labels))"
   ]
  },
  {
   "cell_type": "markdown",
   "metadata": {},
   "source": [
    "# Zadanie 4"
   ]
  },
  {
   "cell_type": "markdown",
   "metadata": {},
   "source": [
    "# Trening klasyfikatorów dla zmieszanych danych\n",
    "Wraz z wyborem parametrów modelu przy użyciu gridSearchCV."
   ]
  },
  {
   "cell_type": "code",
   "execution_count": 72,
   "metadata": {},
   "outputs": [],
   "source": [
    "train_deskewed = [deskew(im) for im in train_images]\n",
    "train_deskewed = np.asarray(train_deskewed)\n",
    "\n",
    "for i in train_deskewed:\n",
    "    np.random.shuffle(i)"
   ]
  },
  {
   "cell_type": "code",
   "execution_count": 73,
   "metadata": {},
   "outputs": [
    {
     "data": {
      "text/plain": [
       "(60000, 784)"
      ]
     },
     "execution_count": 73,
     "metadata": {},
     "output_type": "execute_result"
    }
   ],
   "source": [
    "train_in = train_deskewed.reshape(-1,28*28)\n",
    "train_lb = train_labels.reshape(-1,)\n",
    "train_in.shape"
   ]
  },
  {
   "cell_type": "markdown",
   "metadata": {},
   "source": [
    "## SVM"
   ]
  },
  {
   "cell_type": "code",
   "execution_count": 76,
   "metadata": {},
   "outputs": [
    {
     "name": "stdout",
     "output_type": "stream",
     "text": [
      "Fitting 5 folds for each of 12 candidates, totalling 60 fits\n",
      "[CV 1/5] END ...............C=10, gamma=scale, kernel=linear; total time=  15.4s\n",
      "[CV 2/5] END ...............C=10, gamma=scale, kernel=linear; total time=  14.5s\n",
      "[CV 3/5] END ...............C=10, gamma=scale, kernel=linear; total time=  14.3s\n",
      "[CV 4/5] END ...............C=10, gamma=scale, kernel=linear; total time=  14.9s\n",
      "[CV 5/5] END ...............C=10, gamma=scale, kernel=linear; total time=  14.6s\n",
      "[CV 1/5] END ..................C=10, gamma=scale, kernel=rbf; total time=  17.8s\n",
      "[CV 2/5] END ..................C=10, gamma=scale, kernel=rbf; total time=  17.7s\n",
      "[CV 3/5] END ..................C=10, gamma=scale, kernel=rbf; total time=  17.8s\n",
      "[CV 4/5] END ..................C=10, gamma=scale, kernel=rbf; total time=  17.7s\n",
      "[CV 5/5] END ..................C=10, gamma=scale, kernel=rbf; total time=  17.7s\n",
      "[CV 1/5] END ................C=10, gamma=auto, kernel=linear; total time=  15.0s\n",
      "[CV 2/5] END ................C=10, gamma=auto, kernel=linear; total time=  14.4s\n",
      "[CV 3/5] END ................C=10, gamma=auto, kernel=linear; total time=  14.3s\n",
      "[CV 4/5] END ................C=10, gamma=auto, kernel=linear; total time=  15.0s\n",
      "[CV 5/5] END ................C=10, gamma=auto, kernel=linear; total time=  14.6s\n",
      "[CV 1/5] END ...................C=10, gamma=auto, kernel=rbf; total time=  26.2s\n",
      "[CV 2/5] END ...................C=10, gamma=auto, kernel=rbf; total time=  27.1s\n",
      "[CV 3/5] END ...................C=10, gamma=auto, kernel=rbf; total time=  26.6s\n",
      "[CV 4/5] END ...................C=10, gamma=auto, kernel=rbf; total time=  23.6s\n",
      "[CV 5/5] END ...................C=10, gamma=auto, kernel=rbf; total time=  23.6s\n",
      "[CV 1/5] END ...............C=15, gamma=scale, kernel=linear; total time=  15.0s\n",
      "[CV 2/5] END ...............C=15, gamma=scale, kernel=linear; total time=  14.4s\n",
      "[CV 3/5] END ...............C=15, gamma=scale, kernel=linear; total time=  14.2s\n",
      "[CV 4/5] END ...............C=15, gamma=scale, kernel=linear; total time=  14.9s\n",
      "[CV 5/5] END ...............C=15, gamma=scale, kernel=linear; total time=  14.6s\n",
      "[CV 1/5] END ..................C=15, gamma=scale, kernel=rbf; total time=  17.7s\n",
      "[CV 2/5] END ..................C=15, gamma=scale, kernel=rbf; total time=  17.8s\n",
      "[CV 3/5] END ..................C=15, gamma=scale, kernel=rbf; total time=  17.8s\n",
      "[CV 4/5] END ..................C=15, gamma=scale, kernel=rbf; total time=  17.8s\n",
      "[CV 5/5] END ..................C=15, gamma=scale, kernel=rbf; total time=  17.7s\n",
      "[CV 1/5] END ................C=15, gamma=auto, kernel=linear; total time=  15.0s\n",
      "[CV 2/5] END ................C=15, gamma=auto, kernel=linear; total time=  15.0s\n",
      "[CV 3/5] END ................C=15, gamma=auto, kernel=linear; total time=  16.2s\n",
      "[CV 4/5] END ................C=15, gamma=auto, kernel=linear; total time=  17.0s\n",
      "[CV 5/5] END ................C=15, gamma=auto, kernel=linear; total time=  15.9s\n",
      "[CV 1/5] END ...................C=15, gamma=auto, kernel=rbf; total time=  27.7s\n",
      "[CV 2/5] END ...................C=15, gamma=auto, kernel=rbf; total time=  27.5s\n",
      "[CV 3/5] END ...................C=15, gamma=auto, kernel=rbf; total time=  28.0s\n",
      "[CV 4/5] END ...................C=15, gamma=auto, kernel=rbf; total time=  24.5s\n",
      "[CV 5/5] END ...................C=15, gamma=auto, kernel=rbf; total time=  24.5s\n",
      "[CV 1/5] END ...............C=20, gamma=scale, kernel=linear; total time=  15.9s\n",
      "[CV 2/5] END ...............C=20, gamma=scale, kernel=linear; total time=  15.0s\n",
      "[CV 3/5] END ...............C=20, gamma=scale, kernel=linear; total time=  16.0s\n",
      "[CV 4/5] END ...............C=20, gamma=scale, kernel=linear; total time=  18.6s\n",
      "[CV 5/5] END ...............C=20, gamma=scale, kernel=linear; total time=  18.3s\n",
      "[CV 1/5] END ..................C=20, gamma=scale, kernel=rbf; total time=  24.1s\n",
      "[CV 2/5] END ..................C=20, gamma=scale, kernel=rbf; total time=  22.5s\n",
      "[CV 3/5] END ..................C=20, gamma=scale, kernel=rbf; total time=  22.5s\n",
      "[CV 4/5] END ..................C=20, gamma=scale, kernel=rbf; total time=  23.1s\n",
      "[CV 5/5] END ..................C=20, gamma=scale, kernel=rbf; total time=  22.9s\n",
      "[CV 1/5] END ................C=20, gamma=auto, kernel=linear; total time=  19.2s\n",
      "[CV 2/5] END ................C=20, gamma=auto, kernel=linear; total time=  18.7s\n",
      "[CV 3/5] END ................C=20, gamma=auto, kernel=linear; total time=  18.9s\n",
      "[CV 4/5] END ................C=20, gamma=auto, kernel=linear; total time=  18.9s\n",
      "[CV 5/5] END ................C=20, gamma=auto, kernel=linear; total time=  19.0s\n",
      "[CV 1/5] END ...................C=20, gamma=auto, kernel=rbf; total time=  33.7s\n",
      "[CV 2/5] END ...................C=20, gamma=auto, kernel=rbf; total time=  33.3s\n",
      "[CV 3/5] END ...................C=20, gamma=auto, kernel=rbf; total time=  33.1s\n",
      "[CV 4/5] END ...................C=20, gamma=auto, kernel=rbf; total time=  33.3s\n",
      "[CV 5/5] END ...................C=20, gamma=auto, kernel=rbf; total time=  32.7s\n"
     ]
    },
    {
     "data": {
      "text/plain": [
       "GridSearchCV(cv=5, estimator=SVC(),\n",
       "             param_grid={'C': (10, 15, 20), 'gamma': ('scale', 'auto'),\n",
       "                         'kernel': ('linear', 'rbf')},\n",
       "             verbose=4)"
      ]
     },
     "execution_count": 76,
     "metadata": {},
     "output_type": "execute_result"
    }
   ],
   "source": [
    "parameters = {'kernel':('linear','rbf'), 'C':(10,15,20), 'gamma':('scale', 'auto')}\n",
    "\n",
    "svc = svm.SVC()\n",
    "clf = GridSearchCV(svc, parameters, cv=5, verbose=4)\n",
    "\n",
    "clf.fit(train_in[:6000], train_lb[:6000])"
   ]
  },
  {
   "cell_type": "code",
   "execution_count": 77,
   "metadata": {},
   "outputs": [
    {
     "data": {
      "text/plain": [
       "(0.5993333333333333, {'C': 15, 'gamma': 'scale', 'kernel': 'rbf'})"
      ]
     },
     "execution_count": 77,
     "metadata": {},
     "output_type": "execute_result"
    }
   ],
   "source": [
    "clf.best_score_, clf.best_params_"
   ]
  },
  {
   "cell_type": "code",
   "execution_count": 78,
   "metadata": {},
   "outputs": [
    {
     "name": "stdout",
     "output_type": "stream",
     "text": [
      "60.75\n"
     ]
    },
    {
     "data": {
      "image/png": "[encoded data removed]",
      "text/plain": [
       "<Figure size 720x720 with 1 Axes>"
      ]
     },
     "metadata": {
      "needs_background": "light"
     },
     "output_type": "display_data"
    },
    {
     "name": "stdout",
     "output_type": "stream",
     "text": [
      "              precision    recall  f1-score   support\n",
      "\n",
      "           0       0.68      0.83      0.75       409\n",
      "           1       0.98      0.97      0.97       456\n",
      "           2       0.44      0.41      0.42       410\n",
      "           3       0.49      0.50      0.49       424\n",
      "           4       0.50      0.52      0.51       357\n",
      "           5       0.51      0.44      0.48       349\n",
      "           6       0.61      0.66      0.63       406\n",
      "           7       0.62      0.59      0.60       419\n",
      "           8       0.64      0.55      0.59       393\n",
      "           9       0.51      0.53      0.52       377\n",
      "\n",
      "    accuracy                           0.61      4000\n",
      "   macro avg       0.60      0.60      0.60      4000\n",
      "weighted avg       0.61      0.61      0.60      4000\n",
      "\n"
     ]
    }
   ],
   "source": [
    "model = svm.SVC(**clf.best_params_)\n",
    "model.fit(train_in[:6000], train_lb[:6000])\n",
    "pred_labels = model.predict(train_in[6000:10000].reshape(-1, 28*28))\n",
    "real_labels = train_lb[6000:10000]\n",
    "\n",
    "mask = pred_labels == real_labels\n",
    "correct = np.count_nonzero(mask)\n",
    "print(correct*100.0/pred_labels.size)\n",
    "\n",
    "cm = confusion_matrix(real_labels, pred_labels)\n",
    "fig = plt.figure(figsize = (10,10))\n",
    "sns.heatmap(cm, annot = True, square = True, fmt = 'd', cbar = False)\n",
    "plt.show()\n",
    "print(classification_report(real_labels, pred_labels))"
   ]
  },
  {
   "cell_type": "markdown",
   "metadata": {},
   "source": [
    "## Random Forest Classifier ##"
   ]
  },
  {
   "cell_type": "code",
   "execution_count": 79,
   "metadata": {},
   "outputs": [
    {
     "name": "stdout",
     "output_type": "stream",
     "text": [
      "Fitting 5 folds for each of 18 candidates, totalling 90 fits\n",
      "[CV 1/5] END criterion=entropy, max_depth=15, max_features=1; total time=   0.6s\n",
      "[CV 2/5] END criterion=entropy, max_depth=15, max_features=1; total time=   0.6s\n",
      "[CV 3/5] END criterion=entropy, max_depth=15, max_features=1; total time=   0.6s\n",
      "[CV 4/5] END criterion=entropy, max_depth=15, max_features=1; total time=   0.6s\n",
      "[CV 5/5] END criterion=entropy, max_depth=15, max_features=1; total time=   0.7s\n",
      "[CV 1/5] END criterion=entropy, max_depth=15, max_features=30; total time=   4.7s\n",
      "[CV 2/5] END criterion=entropy, max_depth=15, max_features=30; total time=   4.7s\n",
      "[CV 3/5] END criterion=entropy, max_depth=15, max_features=30; total time=   4.5s\n",
      "[CV 4/5] END criterion=entropy, max_depth=15, max_features=30; total time=   4.5s\n",
      "[CV 5/5] END criterion=entropy, max_depth=15, max_features=30; total time=   4.5s\n",
      "[CV 1/5] END criterion=entropy, max_depth=15, max_features=60; total time=   8.3s\n",
      "[CV 2/5] END criterion=entropy, max_depth=15, max_features=60; total time=   8.3s\n",
      "[CV 3/5] END criterion=entropy, max_depth=15, max_features=60; total time=   8.6s\n",
      "[CV 4/5] END criterion=entropy, max_depth=15, max_features=60; total time=   8.5s\n",
      "[CV 5/5] END criterion=entropy, max_depth=15, max_features=60; total time=   8.5s\n",
      "[CV 1/5] END criterion=entropy, max_depth=20, max_features=1; total time=   0.7s\n",
      "[CV 2/5] END criterion=entropy, max_depth=20, max_features=1; total time=   0.7s\n",
      "[CV 3/5] END criterion=entropy, max_depth=20, max_features=1; total time=   0.7s\n",
      "[CV 4/5] END criterion=entropy, max_depth=20, max_features=1; total time=   0.7s\n",
      "[CV 5/5] END criterion=entropy, max_depth=20, max_features=1; total time=   0.7s\n",
      "[CV 1/5] END criterion=entropy, max_depth=20, max_features=30; total time=   4.7s\n",
      "[CV 2/5] END criterion=entropy, max_depth=20, max_features=30; total time=   4.8s\n",
      "[CV 3/5] END criterion=entropy, max_depth=20, max_features=30; total time=   4.7s\n",
      "[CV 4/5] END criterion=entropy, max_depth=20, max_features=30; total time=   4.7s\n",
      "[CV 5/5] END criterion=entropy, max_depth=20, max_features=30; total time=   4.7s\n",
      "[CV 1/5] END criterion=entropy, max_depth=20, max_features=60; total time=   8.4s\n",
      "[CV 2/5] END criterion=entropy, max_depth=20, max_features=60; total time=   8.3s\n",
      "[CV 3/5] END criterion=entropy, max_depth=20, max_features=60; total time=   8.3s\n",
      "[CV 4/5] END criterion=entropy, max_depth=20, max_features=60; total time=   8.3s\n",
      "[CV 5/5] END criterion=entropy, max_depth=20, max_features=60; total time=   8.3s\n",
      "[CV 1/5] END criterion=entropy, max_depth=25, max_features=1; total time=   0.8s\n",
      "[CV 2/5] END criterion=entropy, max_depth=25, max_features=1; total time=   0.7s\n",
      "[CV 3/5] END criterion=entropy, max_depth=25, max_features=1; total time=   0.8s\n",
      "[CV 4/5] END criterion=entropy, max_depth=25, max_features=1; total time=   0.8s\n",
      "[CV 5/5] END criterion=entropy, max_depth=25, max_features=1; total time=   0.8s\n",
      "[CV 1/5] END criterion=entropy, max_depth=25, max_features=30; total time=   4.6s\n",
      "[CV 2/5] END criterion=entropy, max_depth=25, max_features=30; total time=   4.6s\n",
      "[CV 3/5] END criterion=entropy, max_depth=25, max_features=30; total time=   4.6s\n",
      "[CV 4/5] END criterion=entropy, max_depth=25, max_features=30; total time=   4.6s\n",
      "[CV 5/5] END criterion=entropy, max_depth=25, max_features=30; total time=   4.7s\n",
      "[CV 1/5] END criterion=entropy, max_depth=25, max_features=60; total time=   8.6s\n",
      "[CV 2/5] END criterion=entropy, max_depth=25, max_features=60; total time=   8.7s\n",
      "[CV 3/5] END criterion=entropy, max_depth=25, max_features=60; total time=   8.3s\n",
      "[CV 4/5] END criterion=entropy, max_depth=25, max_features=60; total time=   8.6s\n",
      "[CV 5/5] END criterion=entropy, max_depth=25, max_features=60; total time=   8.6s\n",
      "[CV 1/5] END ...criterion=gini, max_depth=15, max_features=1; total time=   0.4s\n",
      "[CV 2/5] END ...criterion=gini, max_depth=15, max_features=1; total time=   0.4s\n",
      "[CV 3/5] END ...criterion=gini, max_depth=15, max_features=1; total time=   0.4s\n",
      "[CV 4/5] END ...criterion=gini, max_depth=15, max_features=1; total time=   0.4s\n",
      "[CV 5/5] END ...criterion=gini, max_depth=15, max_features=1; total time=   0.4s\n",
      "[CV 1/5] END ..criterion=gini, max_depth=15, max_features=30; total time=   2.7s\n",
      "[CV 2/5] END ..criterion=gini, max_depth=15, max_features=30; total time=   2.8s\n",
      "[CV 3/5] END ..criterion=gini, max_depth=15, max_features=30; total time=   2.8s\n",
      "[CV 4/5] END ..criterion=gini, max_depth=15, max_features=30; total time=   2.7s\n",
      "[CV 5/5] END ..criterion=gini, max_depth=15, max_features=30; total time=   2.8s\n",
      "[CV 1/5] END ..criterion=gini, max_depth=15, max_features=60; total time=   5.0s\n",
      "[CV 2/5] END ..criterion=gini, max_depth=15, max_features=60; total time=   4.9s\n",
      "[CV 3/5] END ..criterion=gini, max_depth=15, max_features=60; total time=   4.9s\n",
      "[CV 4/5] END ..criterion=gini, max_depth=15, max_features=60; total time=   4.9s\n",
      "[CV 5/5] END ..criterion=gini, max_depth=15, max_features=60; total time=   4.9s\n",
      "[CV 1/5] END ...criterion=gini, max_depth=20, max_features=1; total time=   0.5s\n",
      "[CV 2/5] END ...criterion=gini, max_depth=20, max_features=1; total time=   0.5s\n",
      "[CV 3/5] END ...criterion=gini, max_depth=20, max_features=1; total time=   0.5s\n",
      "[CV 4/5] END ...criterion=gini, max_depth=20, max_features=1; total time=   0.5s\n",
      "[CV 5/5] END ...criterion=gini, max_depth=20, max_features=1; total time=   0.5s\n",
      "[CV 1/5] END ..criterion=gini, max_depth=20, max_features=30; total time=   2.9s\n",
      "[CV 2/5] END ..criterion=gini, max_depth=20, max_features=30; total time=   2.9s\n",
      "[CV 3/5] END ..criterion=gini, max_depth=20, max_features=30; total time=   2.9s\n",
      "[CV 4/5] END ..criterion=gini, max_depth=20, max_features=30; total time=   2.9s\n",
      "[CV 5/5] END ..criterion=gini, max_depth=20, max_features=30; total time=   2.9s\n",
      "[CV 1/5] END ..criterion=gini, max_depth=20, max_features=60; total time=   5.2s\n",
      "[CV 2/5] END ..criterion=gini, max_depth=20, max_features=60; total time=   5.1s\n",
      "[CV 3/5] END ..criterion=gini, max_depth=20, max_features=60; total time=   5.1s\n",
      "[CV 4/5] END ..criterion=gini, max_depth=20, max_features=60; total time=   5.2s\n",
      "[CV 5/5] END ..criterion=gini, max_depth=20, max_features=60; total time=   5.2s\n",
      "[CV 1/5] END ...criterion=gini, max_depth=25, max_features=1; total time=   0.6s\n",
      "[CV 2/5] END ...criterion=gini, max_depth=25, max_features=1; total time=   0.6s\n",
      "[CV 3/5] END ...criterion=gini, max_depth=25, max_features=1; total time=   0.6s\n",
      "[CV 4/5] END ...criterion=gini, max_depth=25, max_features=1; total time=   0.6s\n",
      "[CV 5/5] END ...criterion=gini, max_depth=25, max_features=1; total time=   0.6s\n",
      "[CV 1/5] END ..criterion=gini, max_depth=25, max_features=30; total time=   2.9s\n",
      "[CV 2/5] END ..criterion=gini, max_depth=25, max_features=30; total time=   2.9s\n",
      "[CV 3/5] END ..criterion=gini, max_depth=25, max_features=30; total time=   2.9s\n",
      "[CV 4/5] END ..criterion=gini, max_depth=25, max_features=30; total time=   2.9s\n",
      "[CV 5/5] END ..criterion=gini, max_depth=25, max_features=30; total time=   2.8s\n",
      "[CV 1/5] END ..criterion=gini, max_depth=25, max_features=60; total time=   5.0s\n",
      "[CV 2/5] END ..criterion=gini, max_depth=25, max_features=60; total time=   5.0s\n",
      "[CV 3/5] END ..criterion=gini, max_depth=25, max_features=60; total time=   5.0s\n",
      "[CV 4/5] END ..criterion=gini, max_depth=25, max_features=60; total time=   5.1s\n",
      "[CV 5/5] END ..criterion=gini, max_depth=25, max_features=60; total time=   5.2s\n"
     ]
    },
    {
     "data": {
      "text/plain": [
       "GridSearchCV(cv=5, estimator=RandomForestClassifier(),\n",
       "             param_grid={'criterion': ['entropy', 'gini'],\n",
       "                         'max_depth': [15, 20, 25],\n",
       "                         'max_features': [1, 30, 60]},\n",
       "             verbose=4)"
      ]
     },
     "execution_count": 79,
     "metadata": {},
     "output_type": "execute_result"
    }
   ],
   "source": [
    "params = {'max_features': [1,30,60],\n",
    "          'max_depth': [15,20,25], \n",
    "          'criterion': [\"entropy\",\"gini\"]}\n",
    "model = RandomForestClassifier()\n",
    "\n",
    "grid=GridSearchCV(estimator=model, param_grid=params, cv=5, verbose = 4)\n",
    "grid.fit(train_in[:6000],train_lb[:6000])"
   ]
  },
  {
   "cell_type": "code",
   "execution_count": 80,
   "metadata": {},
   "outputs": [
    {
     "data": {
      "text/plain": [
       "(0.49800000000000005,\n",
       " {'criterion': 'gini', 'max_depth': 15, 'max_features': 60})"
      ]
     },
     "execution_count": 80,
     "metadata": {},
     "output_type": "execute_result"
    }
   ],
   "source": [
    "grid.best_score_, grid.best_params_"
   ]
  },
  {
   "cell_type": "code",
   "execution_count": 81,
   "metadata": {},
   "outputs": [
    {
     "name": "stdout",
     "output_type": "stream",
     "text": [
      "51.275\n"
     ]
    },
    {
     "data": {
      "image/png": "[encoded data removed]",
      "text/plain": [
       "<Figure size 720x720 with 1 Axes>"
      ]
     },
     "metadata": {
      "needs_background": "light"
     },
     "output_type": "display_data"
    },
    {
     "name": "stdout",
     "output_type": "stream",
     "text": [
      "              precision    recall  f1-score   support\n",
      "\n",
      "           0       0.57      0.78      0.66       409\n",
      "           1       0.96      0.95      0.96       456\n",
      "           2       0.40      0.23      0.29       410\n",
      "           3       0.44      0.34      0.39       424\n",
      "           4       0.43      0.50      0.46       357\n",
      "           5       0.49      0.19      0.28       349\n",
      "           6       0.48      0.45      0.46       406\n",
      "           7       0.41      0.63      0.50       419\n",
      "           8       0.49      0.53      0.51       393\n",
      "           9       0.37      0.42      0.39       377\n",
      "\n",
      "    accuracy                           0.51      4000\n",
      "   macro avg       0.50      0.50      0.49      4000\n",
      "weighted avg       0.51      0.51      0.50      4000\n",
      "\n"
     ]
    }
   ],
   "source": [
    "rfc =  RandomForestClassifier(**grid.best_params_)\n",
    "rfc = rfc.fit(train_in[:6000],train_lb[:6000])\n",
    "\n",
    "pred_labels = rfc.predict(train_in[6000:10000])\n",
    "\n",
    "mask = pred_labels==train_lb[6000:10000]\n",
    "correct = np.count_nonzero(mask)\n",
    "print(correct*100.0/pred_labels.size)\n",
    "\n",
    "cm = confusion_matrix(train_lb[6000:10000], pred_labels)\n",
    "fig = plt.figure(figsize = (10,10))\n",
    "sns.heatmap(cm, annot = True, square = True, fmt = 'd', cbar = False)\n",
    "plt.show()\n",
    "print(classification_report(train_lb[6000:10000], pred_labels))"
   ]
  },
  {
   "cell_type": "markdown",
   "metadata": {},
   "source": [
    "## Sieci ##"
   ]
  },
  {
   "cell_type": "code",
   "execution_count": 82,
   "metadata": {},
   "outputs": [],
   "source": [
    "network = models.Sequential()\n",
    "network.add(layers.Dense(512, activation='relu', input_shape=(784,)))\n",
    "network.add(layers.Dense(10, activation='softmax'))"
   ]
  },
  {
   "cell_type": "code",
   "execution_count": 83,
   "metadata": {},
   "outputs": [],
   "source": [
    "network.compile(optimizer='rmsprop',\n",
    "                loss='categorical_crossentropy',\n",
    "                metrics=['accuracy'])"
   ]
  },
  {
   "cell_type": "code",
   "execution_count": 84,
   "metadata": {},
   "outputs": [],
   "source": [
    "encoded_train_labels = to_categorical(train_lb)"
   ]
  },
  {
   "cell_type": "code",
   "execution_count": 85,
   "metadata": {},
   "outputs": [
    {
     "name": "stdout",
     "output_type": "stream",
     "text": [
      "Epoch 1/5\n",
      "47/47 [==============================] - 1s 6ms/step - loss: 114.4156 - accuracy: 0.2655\n",
      "Epoch 2/5\n",
      "47/47 [==============================] - 0s 6ms/step - loss: 14.5928 - accuracy: 0.4814\n",
      "Epoch 3/5\n",
      "47/47 [==============================] - 0s 6ms/step - loss: 4.8641 - accuracy: 0.6067\n",
      "Epoch 4/5\n",
      "47/47 [==============================] - 0s 5ms/step - loss: 2.0907 - accuracy: 0.7150\n",
      "Epoch 5/5\n",
      "47/47 [==============================] - 0s 5ms/step - loss: 1.2729 - accuracy: 0.7993\n"
     ]
    },
    {
     "data": {
      "text/plain": [
       "<tensorflow.python.keras.callbacks.History at 0x7fe40ea1fe20>"
      ]
     },
     "execution_count": 85,
     "metadata": {},
     "output_type": "execute_result"
    }
   ],
   "source": [
    "network.fit(train_in[:6000], encoded_train_labels[:6000], epochs=5, batch_size=128)"
   ]
  },
  {
   "cell_type": "code",
   "execution_count": 86,
   "metadata": {},
   "outputs": [
    {
     "name": "stdout",
     "output_type": "stream",
     "text": [
      "125/125 [==============================] - 0s 2ms/step - loss: 8.5844 - accuracy: 0.4345\n",
      "test_acc: 0.4345000088214874\n"
     ]
    }
   ],
   "source": [
    "test_loss, test_acc = network.evaluate(train_in[6000:10000], encoded_train_labels[6000:10000])\n",
    "print('test_acc:', test_acc)"
   ]
  },
  {
   "cell_type": "code",
   "execution_count": 87,
   "metadata": {},
   "outputs": [
    {
     "name": "stdout",
     "output_type": "stream",
     "text": [
      "[[9.99995708e-01 4.82480073e-20 3.43158879e-09 2.11136303e-10\n",
      "  7.52903295e-10 4.35467378e-08 1.20024518e-10 4.21043452e-12\n",
      "  4.25110966e-06 1.19826405e-14]]\n"
     ]
    }
   ],
   "source": [
    "pred_probabilities = network.predict(train_in[6000:10000])\n",
    "print(pred_probabilities[0:1])"
   ]
  },
  {
   "cell_type": "code",
   "execution_count": 88,
   "metadata": {},
   "outputs": [],
   "source": [
    "pred_labels = np.argmax(pred_probabilities,-1)"
   ]
  },
  {
   "cell_type": "code",
   "execution_count": 89,
   "metadata": {},
   "outputs": [
    {
     "data": {
      "image/png": "[encoded data removed]",
      "text/plain": [
       "<Figure size 720x720 with 1 Axes>"
      ]
     },
     "metadata": {
      "needs_background": "light"
     },
     "output_type": "display_data"
    },
    {
     "name": "stdout",
     "output_type": "stream",
     "text": [
      "              precision    recall  f1-score   support\n",
      "\n",
      "           0       0.60      0.52      0.56       409\n",
      "           1       0.94      0.93      0.93       456\n",
      "           2       0.28      0.27      0.27       410\n",
      "           3       0.32      0.17      0.23       424\n",
      "           4       0.49      0.32      0.39       357\n",
      "           5       0.26      0.37      0.30       349\n",
      "           6       0.47      0.38      0.42       406\n",
      "           7       0.38      0.50      0.43       419\n",
      "           8       0.37      0.39      0.38       393\n",
      "           9       0.29      0.42      0.35       377\n",
      "\n",
      "    accuracy                           0.43      4000\n",
      "   macro avg       0.44      0.43      0.43      4000\n",
      "weighted avg       0.45      0.43      0.43      4000\n",
      "\n"
     ]
    }
   ],
   "source": [
    "cm = confusion_matrix(train_lb[6000:10000], pred_labels)\n",
    "fig = plt.figure(figsize = (10,10))\n",
    "sns.heatmap(cm, annot = True, square = True, fmt = 'd', cbar = False)\n",
    "plt.show()\n",
    "\n",
    "print(classification_report(train_lb[6000:10000], pred_labels))"
   ]
  },
  {
   "cell_type": "markdown",
   "metadata": {},
   "source": [
    "# Wnioski"
   ]
  },
  {
   "cell_type": "markdown",
   "metadata": {},
   "source": [
    "### Porównanie wynika działania klasyfikatorów, trenowanymi obrazami oryginalnymi oraz obrazami po zadziałaniu funkcji Deskew:"
   ]
  },
  {
   "cell_type": "markdown",
   "metadata": {},
   "source": [
    "Z deskew:  \n",
    "SVM: 97%  \n",
    "Random Forest: 93%  \n",
    "Sieci: 92%  \n",
    "\n",
    "Bez deskew:  \n",
    "SVM: 95%  \n",
    "Random Forest: 93%  \n",
    "Sieci: 92%  "
   ]
  },
  {
   "cell_type": "markdown",
   "metadata": {},
   "source": [
    "#### Zauważalne są niewielkie różnice, ale jednak dla wszystkich klasyfikatorów funkcja Deskew pomaga w nauce"
   ]
  },
  {
   "cell_type": "markdown",
   "metadata": {},
   "source": [
    "### Porównanie wyniku działania klasyfikatorów, trenowanymi obrazami oryginalnymi oraz danymi po zadziałaniu funkcji OpenCVHOG:"
   ]
  },
  {
   "cell_type": "markdown",
   "metadata": {},
   "source": [
    "Z HOG:  \n",
    "SVM: 97%  \n",
    "Random Forest: 93%  \n",
    "Sieci: 92%  \n",
    "\n",
    "Bez HOG: \n",
    "SVM: 97%  \n",
    "Random Forest: 95%  \n",
    "Sieci: 91%  "
   ]
  },
  {
   "cell_type": "markdown",
   "metadata": {},
   "source": [
    "#### W przypadku klasyfikatora SVM, nie zauważono znacznych różnic, niewielkie różnice pojawiły się przy Random Forest (tutaj dla danych bez funkcji HOG klasyfikator poradzil sobie nieco lepiej) oraz dla Sieci (w tym przypadku dla danych z funkcją HOG poradził sobie lepiej)"
   ]
  },
  {
   "cell_type": "markdown",
   "metadata": {},
   "source": [
    "### Porównanie wyniku działania klasyfikatorów, trenowanymi obrazami oryginalnymi oraz danymi \"zmieszanymi\":"
   ]
  },
  {
   "cell_type": "markdown",
   "metadata": {},
   "source": [
    "Niezmieszane:  \n",
    "SVM: 97%  \n",
    "Random Forest: 95%  \n",
    "Sieci: 91%  \n",
    "\n",
    "Zmieszane:\n",
    "SVM: 61%  \n",
    "Random Forest: 51%  \n",
    "Sieci: 43%  "
   ]
  },
  {
   "cell_type": "markdown",
   "metadata": {},
   "source": [
    "#### Tutaj zauważalne są największe różnice, czego można się było spodziewać, ale ciekawe jest to, że mimo zmieszanych danych klasyfikatory oraz sieć w całkiem dobrym stopniu się uczą. "
   ]
  }
 ],
 "metadata": {
  "kernelspec": {
   "display_name": "Python 3",
   "language": "python",
   "name": "python3"
  },
  "language_info": {
   "codemirror_mode": {
    "name": "ipython",
    "version": 3
   },
   "file_extension": ".py",
   "mimetype": "text/x-python",
   "name": "python",
   "nbconvert_exporter": "python",
   "pygments_lexer": "ipython3",
   "version": "3.8.5"
  }
 },
 "nbformat": 4,
 "nbformat_minor": 5
}
